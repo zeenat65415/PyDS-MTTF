{
 "cells": [
  {
   "cell_type": "markdown",
   "metadata": {},
   "source": [
    "#### in terminal run\n",
    "pip install textblob\n",
    "python -m textblob.download_corpora"
   ]
  },
  {
   "cell_type": "code",
   "execution_count": 2,
   "metadata": {},
   "outputs": [],
   "source": [
    "import pandas as pd\n",
    "import numpy as np\n",
    "from textblob import TextBlob"
   ]
  },
  {
   "cell_type": "code",
   "execution_count": 3,
   "metadata": {},
   "outputs": [
    {
     "data": {
      "text/html": [
       "<div>\n",
       "<style scoped>\n",
       "    .dataframe tbody tr th:only-of-type {\n",
       "        vertical-align: middle;\n",
       "    }\n",
       "\n",
       "    .dataframe tbody tr th {\n",
       "        vertical-align: top;\n",
       "    }\n",
       "\n",
       "    .dataframe thead th {\n",
       "        text-align: right;\n",
       "    }\n",
       "</style>\n",
       "<table border=\"1\" class=\"dataframe\">\n",
       "  <thead>\n",
       "    <tr style=\"text-align: right;\">\n",
       "      <th></th>\n",
       "      <th>heading</th>\n",
       "      <th>source</th>\n",
       "      <th>content</th>\n",
       "    </tr>\n",
       "  </thead>\n",
       "  <tbody>\n",
       "    <tr>\n",
       "      <th>0</th>\n",
       "      <td>Watch: Sri Lanka Players' Amazing Dance Post B...</td>\n",
       "      <td>NDTV Sports Desk   | Thursday October 13, 2022</td>\n",
       "      <td>Sri Lanka defeated Pakistan by one run in the ...</td>\n",
       "    </tr>\n",
       "    <tr>\n",
       "      <th>1</th>\n",
       "      <td>Google Pixel 7 Pro Becomes Top-Ranked Camera P...</td>\n",
       "      <td>Written by Nithya P Nair , Edited by Siddharth...</td>\n",
       "      <td>Google Pixel 7 Pro has undergone the DxOMark c...</td>\n",
       "    </tr>\n",
       "    <tr>\n",
       "      <th>2</th>\n",
       "      <td>Tiger Still Inside The Bhopal College For 11th...</td>\n",
       "      <td>Press Trust of India   | Thursday October 13, ...</td>\n",
       "      <td>The presence of a tiger on the sprawling 65-ac...</td>\n",
       "    </tr>\n",
       "    <tr>\n",
       "      <th>3</th>\n",
       "      <td>NaN</td>\n",
       "      <td>NaN</td>\n",
       "      <td>NaN</td>\n",
       "    </tr>\n",
       "    <tr>\n",
       "      <th>4</th>\n",
       "      <td>Supreme Court Refuses Urgent Hearing On Plea A...</td>\n",
       "      <td>Press Trust of India   | Thursday October 13, ...</td>\n",
       "      <td>The Supreme Court today refused to accord urge...</td>\n",
       "    </tr>\n",
       "  </tbody>\n",
       "</table>\n",
       "</div>"
      ],
      "text/plain": [
       "                                             heading  \\\n",
       "0  Watch: Sri Lanka Players' Amazing Dance Post B...   \n",
       "1  Google Pixel 7 Pro Becomes Top-Ranked Camera P...   \n",
       "2  Tiger Still Inside The Bhopal College For 11th...   \n",
       "3                                                NaN   \n",
       "4  Supreme Court Refuses Urgent Hearing On Plea A...   \n",
       "\n",
       "                                              source  \\\n",
       "0     NDTV Sports Desk   | Thursday October 13, 2022   \n",
       "1  Written by Nithya P Nair , Edited by Siddharth...   \n",
       "2  Press Trust of India   | Thursday October 13, ...   \n",
       "3                                                NaN   \n",
       "4  Press Trust of India   | Thursday October 13, ...   \n",
       "\n",
       "                                             content  \n",
       "0  Sri Lanka defeated Pakistan by one run in the ...  \n",
       "1  Google Pixel 7 Pro has undergone the DxOMark c...  \n",
       "2  The presence of a tiger on the sprawling 65-ac...  \n",
       "3                                                NaN  \n",
       "4  The Supreme Court today refused to accord urge...  "
      ]
     },
     "execution_count": 3,
     "metadata": {},
     "output_type": "execute_result"
    }
   ],
   "source": [
    "df=pd.read_csv(\"latest_news.csv\")\n",
    "df.head()"
   ]
  },
  {
   "cell_type": "code",
   "execution_count": 4,
   "metadata": {},
   "outputs": [],
   "source": [
    "def get_polarity(text):\n",
    "    if isinstance(text,str):\n",
    "        return TextBlob(text).sentiment.polarity\n",
    "    else:\n",
    "        return np.nan    "
   ]
  },
  {
   "cell_type": "code",
   "execution_count": 8,
   "metadata": {},
   "outputs": [
    {
     "data": {
      "text/html": [
       "<div>\n",
       "<style scoped>\n",
       "    .dataframe tbody tr th:only-of-type {\n",
       "        vertical-align: middle;\n",
       "    }\n",
       "\n",
       "    .dataframe tbody tr th {\n",
       "        vertical-align: top;\n",
       "    }\n",
       "\n",
       "    .dataframe thead th {\n",
       "        text-align: right;\n",
       "    }\n",
       "</style>\n",
       "<table border=\"1\" class=\"dataframe\">\n",
       "  <thead>\n",
       "    <tr style=\"text-align: right;\">\n",
       "      <th></th>\n",
       "      <th>heading</th>\n",
       "      <th>source</th>\n",
       "      <th>content</th>\n",
       "      <th>polarity</th>\n",
       "    </tr>\n",
       "  </thead>\n",
       "  <tbody>\n",
       "    <tr>\n",
       "      <th>0</th>\n",
       "      <td>Watch: Sri Lanka Players' Amazing Dance Post B...</td>\n",
       "      <td>NDTV Sports Desk   | Thursday October 13, 2022</td>\n",
       "      <td>Sri Lanka defeated Pakistan by one run in the ...</td>\n",
       "      <td>0.00</td>\n",
       "    </tr>\n",
       "    <tr>\n",
       "      <th>1</th>\n",
       "      <td>Google Pixel 7 Pro Becomes Top-Ranked Camera P...</td>\n",
       "      <td>Written by Nithya P Nair , Edited by Siddharth...</td>\n",
       "      <td>Google Pixel 7 Pro has undergone the DxOMark c...</td>\n",
       "      <td>0.15</td>\n",
       "    </tr>\n",
       "    <tr>\n",
       "      <th>2</th>\n",
       "      <td>Tiger Still Inside The Bhopal College For 11th...</td>\n",
       "      <td>Press Trust of India   | Thursday October 13, ...</td>\n",
       "      <td>The presence of a tiger on the sprawling 65-ac...</td>\n",
       "      <td>0.00</td>\n",
       "    </tr>\n",
       "    <tr>\n",
       "      <th>3</th>\n",
       "      <td>NaN</td>\n",
       "      <td>NaN</td>\n",
       "      <td>NaN</td>\n",
       "      <td>NaN</td>\n",
       "    </tr>\n",
       "    <tr>\n",
       "      <th>4</th>\n",
       "      <td>Supreme Court Refuses Urgent Hearing On Plea A...</td>\n",
       "      <td>Press Trust of India   | Thursday October 13, ...</td>\n",
       "      <td>The Supreme Court today refused to accord urge...</td>\n",
       "      <td>0.00</td>\n",
       "    </tr>\n",
       "  </tbody>\n",
       "</table>\n",
       "</div>"
      ],
      "text/plain": [
       "                                             heading  \\\n",
       "0  Watch: Sri Lanka Players' Amazing Dance Post B...   \n",
       "1  Google Pixel 7 Pro Becomes Top-Ranked Camera P...   \n",
       "2  Tiger Still Inside The Bhopal College For 11th...   \n",
       "3                                                NaN   \n",
       "4  Supreme Court Refuses Urgent Hearing On Plea A...   \n",
       "\n",
       "                                              source  \\\n",
       "0     NDTV Sports Desk   | Thursday October 13, 2022   \n",
       "1  Written by Nithya P Nair , Edited by Siddharth...   \n",
       "2  Press Trust of India   | Thursday October 13, ...   \n",
       "3                                                NaN   \n",
       "4  Press Trust of India   | Thursday October 13, ...   \n",
       "\n",
       "                                             content  polarity  \n",
       "0  Sri Lanka defeated Pakistan by one run in the ...      0.00  \n",
       "1  Google Pixel 7 Pro has undergone the DxOMark c...      0.15  \n",
       "2  The presence of a tiger on the sprawling 65-ac...      0.00  \n",
       "3                                                NaN       NaN  \n",
       "4  The Supreme Court today refused to accord urge...      0.00  "
      ]
     },
     "execution_count": 8,
     "metadata": {},
     "output_type": "execute_result"
    }
   ],
   "source": [
    "df[\"polarity\"]=df[\"content\"].apply(get_polarity)\n",
    "df.head()\n"
   ]
  },
  {
   "cell_type": "code",
   "execution_count": 9,
   "metadata": {},
   "outputs": [],
   "source": [
    "import plotly.express as px"
   ]
  },
  {
   "cell_type": "code",
   "execution_count": 7,
   "metadata": {},
   "outputs": [
    {
     "data": {
      "text/plain": [
       "<AxesSubplot: >"
      ]
     },
     "execution_count": 7,
     "metadata": {},
     "output_type": "execute_result"
    },
    {
     "data": {
      "image/png": "[encoded data removed]",
      "text/plain": [
       "<Figure size 1800x432 with 1 Axes>"
      ]
     },
     "metadata": {
      "needs_background": "light"
     },
     "output_type": "display_data"
    }
   ],
   "source": [
    "df[\"polarity\"].plot(kind=\"bar\",figsize=(25,6))"
   ]
  },
  {
   "cell_type": "code",
   "execution_count": 10,
   "metadata": {},
   "outputs": [
    {
     "data": {
      "application/vnd.plotly.v1+json": {
       "config": {
        "plotlyServerURL": "https://plot.ly"
       },
       "data": [
        {
         "alignmentgroup": "True",
         "customdata": [
          [
           "Watch: Sri Lanka Players' Amazing Dance Post Beating Pakistan In Women's Asia Cup",
           "Sri Lanka defeated Pakistan by one run in the Women's Asia Cup to set up a title clash with India"
          ],
          [
           "Google Pixel 7 Pro Becomes Top-Ranked Camera Phone on DxOMark, Surpasses iPhone 14 Pro",
           "Google Pixel 7 Pro has undergone the DxOMark camera test and has achieved an overall score of 147 points. The Pixel 7 Pro has been ranked first in the smartphone category alongside Honor Magic 4 Ultimate, just above the iPhone 14 Pro."
          ],
          [
           "Tiger Still Inside The Bhopal College For 11th Day, Pugmarks Spotted",
           "The presence of a tiger on the sprawling 65-acre campus of the prestigious Maulana Azad National Institute of Technology (MANIT) in Bhopal in Madhya Pradesh entered the 11th day today."
          ],
          [
           null,
           null
          ],
          [
           "Supreme Court Refuses Urgent Hearing On Plea Against Firecracker Ban In Delhi",
           "The Supreme Court today refused to accord urgent hearing to a plea against an order banning storage, sale, and use of all types of firecrackers in the national capital till January 1, 2023."
          ],
          [
           "India Initiates Anti-Dumping Probe Over Chinese Glass Import",
           "India has initiated an anti-dumping probe into import of Chinese glass used in home appliances products following a complaint by a domestic player."
          ],
          [
           "Kareena Kapoor Is \"Off To Work\" With Her \"Boy\" Jeh Ali Khan. See Pics",
           "\"A quick pose before we leave,\" she wrote"
          ],
          [
           null,
           null
          ],
          [
           "Transgenders Entitled To Special Quota For Third Gender: Madras High Court",
           "The Madras High Court has held without \"hesitation\" that transgenders are entitled to a special reservation for third gender viz., transgender category for admission to post basic (nursing) and post basic diploma in psychiatry nursing courses."
          ],
          [
           "PM Modi Launches Rural Roads Scheme In Himachal Pradesh",
           "Prime Minister Narendra Modi today launched the Pradhan Mantri Gram Sadak Yojana-III in Himachal Pradesh to upgrade 3,125 km of rural roads, saying the government wants to build roads in every village of the state."
          ],
          [
           "21 Jamia Millia Islamia Researchers In Stanford University’s Global List Of Top 2 Per Cent Scientists",
           "Prof Ankan Sen and Prof Amir Azam are only on the career-long top 2 per cent of scientists in the list"
          ],
          [
           "Supreme Court To Hear Pleas Challenging Electoral Bond Scheme Tomorrow",
           "The Supreme Court is scheduled to hear tomorrow a batch of pleas challenging laws permitting funding of political parties through the electoral bond scheme."
          ],
          [
           "David Warner's Captaincy Ban May Be Revoked, In Likely Contention For ODI Leadership: Report",
           "David Warner was handed a leadership ban following the infamous 2018 ball-tampering scandal, but has been looked upon as a possible candidate for Australia's vacant ODI captain's post"
          ],
          [
           "Kerala Killer's Facebook Posts Just Days After Women's Torture, Murder",
           "Bhagaval Singh, one of the three persons in Kerala accused of torturing and killing two women and possibly eating their flesh in \"human sacrifice\", often posted poetry on Facebook, and described himself as \"self-employed in alternative medicine\"."
          ],
          [
           "How Can There Be Pre-Screening Committee For Web Series, Asks Supreme Court",
           "Observing it always felt pre-censorship is impermissible, the Supreme Court Thursday wondered how can there be a pre-screening committee for web series, films or other programmes which are directly released on online platforms."
          ],
          [
           "How A Tattoo Helped A 75-Year-Old Maharashtra Man Reunite With His Family",
           "A 75-year-old man found in a paralysed condition in Mumbai's Santacruz East area was reunited with his family after functionaries of a social group managed to locate through an online search."
          ],
          [
           "15 Kg Gold Worth Rs 8 Crore, Foreign Currency Seized at Mumbai Airport, 7 Arrested",
           "Mumbai Airport customs seized 15 kgs of gold valued at Rs 7.87 crore in four cases and foreign currency worth Rs 22 lakh in two different cases."
          ],
          [
           "'Five Important Questions': UN Shares Tips To Curb The Spread Of Misinformation",
           "The United Nations advised in the post, \"Before you share content, take time to verify facts by asking yourself some important questions.\""
          ],
          [
           "Bhagwant Mann Launches Website To Streamline Process Of Partition Of Land",
           "Punjab Chief Minister Bhagwant Mann on Wednesday launched a website of the revenue department to further streamline the process for the partition of private land of a family."
          ],
          [
           "Samajwadi Party To Hold Sabhas For Mulayam Singh Across UP On Oct 21",
           "The Samajwadi Party will be holding 'shradhanjali' (prayer meeting) meetings across Uttar Pradesh on October 21 to pay tributes to its departed leader Mulayam Singh Yadav, a party statement said today."
          ],
          [
           null,
           null
          ],
          [
           "\"Matter Of Shame\": Mamata Banerjee On Gandhi Look-Alike Asur At Puja Pandal",
           "West Bengal Chief Minister Mamata Banerjee said that people would give a befitting reply to those who tried to malign Durga Puja and insulted Mahatma Gandhi by replacing Mahisasura with a crudely-crafted lookalike of the father of the nation."
          ],
          [
           "Hundreds Of British Citizens Forced To Cancel India Trip Due To Visa Delays",
           "Several UK citizens looking to visit India have been forced to postpone or cancel their trips after visa agents in the country received notices that they could no longer apply for tourist visas on behalf of the applicant."
          ],
          [
           "100 People Threatened Me For Summoning AAP's Gopal Italia: Women's Panel Chief Rekha Sharma",
           "National Commission for Women (NCW) chairperson Rekha Sharma on Thursday alleged that over 100 people came outside her office in support of Aam Aadmi Party Gujarat unit chief Gopal Italia."
          ],
          [
           null,
           null
          ],
          [
           "Google Password Manager Gets Passkey Support for Android, Chrome",
           "Google is bringing passkeys to Google Password Manager on Android and Chrome. This feature is currently only available to developers via Google Play Services beta and Chrome Canary."
          ],
          [
           "30 Member-Nepal Delegation On 3-Day Visit To Delhi Government Schools",
           "A delegation of 30 school principals, vice principals and teachers from Nepal is on a three-day visit to Delhi government schools, the Directorate of Education (DoE) said."
          ],
          [
           "Karwa Chauth 2022: Sanjay Kapoor Carries The Sieve For Wife Maheep. Aww...",
           "\"Happy Karwa Chauth Maheep Kapoor,\" wrote Sanjay"
          ],
          [
           "CAT 2022: Top Colleges In India Other Than IIMs Accepting CAT Score",
           "Check the list of top management colleges in India accepting CAT 2022 scores other than IIMs."
          ],
          [
           "Delhi Lt Governor Approves Felling Of Trees To Accommodate Infra Projects",
           "Delhi LG VK Saxena has cleared eight files sent for his approval by Chief Minister Arvind Kejriwal's office, removing in effect a major roadblock in completion of important projects including redevelopment of AIIMS, officials at LG office said."
          ],
          [
           "Uttarakhand Police Files Case Against UP Cops After Woman Dies In Shootout",
           "Uttarakhand Police on Thursday registered a First Information Report (FIR) against over 10 Uttar Pradesh policemen under attempt to murder and other relevant sections of the IPC, following a raid by UP Police in which one woman died."
          ],
          [
           "German Woman Arrested Over Plot To Kidnap Health Minister",
           "German police on Thursday arrested a woman accused of being the ringleader of a far-right anti-lockdown group that planned to kidnap the health minister."
          ],
          [
           "Future iPad May Adopt Hybrid OLED Display, Apple Said to Be Working With Taiwan SMT: Report",
           "Apple's future iPad models are said to come equipped with OLED screens. According to a new report, Taiwan SMT has entered into Apple's supply chain for the implementation of hybrid OLED displays in the iPad Pro. Apple is reportedly working with Samsung and LG to develop the displays."
          ],
          [
           "Karwa Chauth 2022: Shilpa Shetty, Raveena Tandon, Maheep Kapoor And Others At Sunita Kapoor's House",
           "Sunita Kapoor hosted Karwa Chauth celebrations at her house"
          ],
          [
           "MHT CET Counselling 2022: Final Merit List For 5-Year LLB Programme Released, How To Check",
           "MHT CET Counselling 2022: Candidates can check and download the merit list on the official website- llb5cap22.mahacet.org. The MHT CET will release the round one allocation list on October 15"
          ],
          [
           "Stablecoin Usage in Russia Rises Exponentially After Ukraine Invasion, Here's Why",
           "Russia’s cryptocurrency transactions, both in crypto-to-crypto and crypto-to-fiat currency, surged in March following the Ukraine invasion, reveals a Chainalysis report."
          ],
          [
           "\"Best Car In The World Is Left In Garage\": Brett Lee On India Star Not Being Part Of T20 World Cup",
           "Former Australia pacer Brett Lee feels Umran Malik should've been included in India's squad for the showpiece event"
          ],
          [
           null,
           null
          ],
          [
           "Binance UK Subsidiary Shareholder Claims Exchange Filed 'Grossly Inaccurate' Statements in 2020",
           "The co-owner of Dimplex, a Binance UK subsidiary, has accused the biggest cryptocurrency exchange in the world of releasing a \"grossly misleading\" annual report in 2020."
          ],
          [
           "Shaheen Afridi Is 90 Per Cent Ready For T20 World Cup: Pakistan Cricket Board Chief Ramiz Raja",
           "Shaheen Afridi is set to join the national team in Australia on Saturday after completing his rehabilitation programme for a knee injury under the supervision of the PCB Medical Advisory Committee"
          ],
          [
           "Asset Tokenisation: Here’s What We Know About It",
           "Asset tokenisation is the process of creating digital units of a physical or virtual property that is held on blockchain networks. They may be exotic ones like sports teams, artworks, and celeb merchandises as well as traditional assets like binds, commodities, capital funds, and real estate. Tokenising an asset can increase the liquidity of the assets."
          ],
          [
           null,
           null
          ],
          [
           "Hina Khan, Holidaying At A Beach Destination, Shares Sunset Pics",
           "\"Catch the glimpse,\" Hina Khan captioned her post"
          ],
          [
           "Pooja Hegde Cuts Three Birthday Cakes With Salman Khan, See Pics",
           "Pooja Hegde celebrated her 32nd birthday with Salman Khan, and she cut not one or two but three delicious cakes."
          ],
          [
           "Dune: Part Two Release Date Moved Up Two Weeks to November 3, 2023",
           "Dune: Part Two is hitting theatres two weeks earlier than originally planned. Warner Bros. has brought forward the release date for its Dune sequel from November 17 to November 3, 2023. The news comes in the wake of Marvel Studios postponing its Blade movie to 2024, thereby vacating the early November window."
          ],
          [
           "Watch: Mohamed Salah Soars Back To Form With 'Record Breaking' Hat-Trick Against Rangers In Uefa Champions League",
           "Liverpool forward Mohamed Salah scored the fastest hat-trick in the Champions League history as he bagged three goals against Rangers in just 6 minutes in 12 seconds."
          ],
          [
           "Metaverse Could Accelerate Manufacturing, Social Ills: How Boeing, Tinder Are Approaching Virtual Reality",
           "The metaverse, the hypothetical concept of the Internet as a virtual world, could come with the potential of accelerating manufacturing as well as social ills. While companies like Boeing are looking to digital technology to accelerate production of new aircraft, other firms like Tinder said that it is taking a wait-and-see approach to the metaverse."
          ],
          [
           "Women's Asia Cup: Sri Lanka Steal 1-Run Win Against Pakistan, Sets Up Title Clash Against India",
           "Pakistan's chase started with a bang after the opening pair of Muneeba Ali and Sidra Ameen walked out to chase the Sri Lankan total, with Ali being the aggressor of the two."
          ],
          [
           "Skincare: 5 Reasons You Should Add Hyaluronic Acid To Your Skincare Routine & How To Use It",
           "Skincare Tips: In this article, we discuss 5 reasons why you should add hyaluronic acid to your skincare routine right away."
          ],
          [
           "Bihar Board Declares ITI Language Exam Result 2022, How To Check",
           "BSEB ITI Language Exam Result 2022: The students who have appeared for the exam can check the result on the official website- secondary.biharboardonline.com. The ITI Language exam was earlier held in July"
          ],
          [
           "How To Make Achaari Chicken Cutlet Sandwich",
           "Love chicken sandwiches? Here we bring you a lip-smacking achaari chicken cutlet sandwich recipe to try at home."
          ],
          [
           "How To Make Kashmiri Chicken Masala For An Indulgent Weekend Dinner",
           "Adding to the list, here we bring you a delicious Kashmiri-style chicken recipe that makes for a perfect weekend dinner spread."
          ],
          [
           "iQoo Z6 Lite 5G Review: Impressive Performance but With a Few Compromises",
           "The iQoo Z6 Lite 5G is another entrant in the sub-Rs. 15,000 price segment. It aims to offer best-in-class performance with the Snapdragon 4 Gen 1 SoC. There is also a 120Hz display, a 50-megapixel dual-camera setup and a 5000mAh battery. The phone skips a few features to keep the prices low."
          ],
          [
           "Droupadi Murmu Inaugurates, Lays Foundation For Several Projects From IIT Guwahati",
           "President Droupadi Murmu is on a two-day visit to Assam. She virtually inaugurated and laid the foundation stones for various projects of the state."
          ],
          [
           null,
           null
          ],
          [
           "Juventus' Angel Di Maria Out For Three Weeks With Hamstring Injury",
           "Angel Di Maria was substituted 23 minutes into Juve's shock 2-0 defeat in Israel which left them on the brink of elimination from the Champions League"
          ],
          [
           "Women's IPL Set To Take Place In March With 5 Teams, Maximum 5 Overseas Players In XI: Report",
           "As per a BCCI note accessed by news agency PTI, the tournament will feature 20 league games with teams to play each other twice."
          ],
          [
           "IIT Roorkee Holds Natural-Hazard Symposium For Indian Himalayas 2022",
           "The objective of the IIT Roorkee symposium is to create a dialogue among various practitioners and researchers active in the Himalayan region."
          ],
          [
           null,
           null
          ],
          [
           "Infosys Sets $1.13 Billion Share Buyback, Reports 11% Rise In Q2 Profit",
           "Indian software services giant Infosys Ltd reported an 11% jump in second-quarter profit on Thursday, helped by strong demand for its digital services."
          ],
          [
           "Allahabad University PG Counselling 2022: Registration Window Opens Today; List Of Documents Required",
           "Eligible candidates can complete the Allahabad University PG counselling process from today through the official website - ecounselling.in or allduniv.ac.in."
          ],
          [
           "ByteDance Plans Spotify Competitor, Music Streaming to Be Integrated Within TikTok: Report",
           "ByteDance is reportedly planning to expand its music streaming service to global markets, as the Chinese firm looks to compete with Spotify and other streaming services. The company eventually plans to bring music streaming to its popular short video sharing service, TikTok. Resso, ByteDance's music-streaming service could be launched in 12 new markets. It is currently available in India, Indonesia and Brazil."
          ],
          [
           "Bigg Boss 16: Dalljiet Kaur To Allegedly Abusive Ex-Husband Shalin Bhanot - \"Not Your Best Friend\"",
           "Shalin Bhanot and Dalljiet Kaur got separated in 2015 and filed for divorce by mutual consent the next year"
          ],
          [
           "Samsung Neo QLED Smart TVs: Bring Home the Ultimate TV Viewing Experience This Diwali",
           "‍‍‍‍‍"
          ],
          [
           "Huawei P60 Launch Timeline Tipped, Leaked Renders Show Dual Selfie Shooters",
           "Huawei P60 series is reportedly in the works as the next flagship smartphones from the Chinese company. The upcoming phones are tipped to launch in March next year. They could be powered by the Kirin 9100 SoC. The Huawei P60 is likely to get a 64-megapixel telephoto sensor."
          ],
          [
           "Realme 10 Pro+ Spotted on BIS, NBTC, More Certifications Sites, May Launch Soon: Report",
           "Realme 10 Pro+ has been reportedly spotted on BIS, NBTC, EEC, and TKDN certification sites. This smartphone is said to have the model number RMX3686. Based on these listings, it is expected to soon launch globally."
          ],
          [
           "Five Delhi Government Schools Among Top 10 In Country, Manish Sisodia Praises Principal Training Programme",
           "\"It is a matter of great pride and a result of hard work by principals, teachers and students. All the principals of these schools were provided world-class training in leading institutes such as IIM Ahmedabad, Cambridge University among others,\" Manish Sisodia said"
          ],
          [
           "Donald Trump's Truth Social App Approved on Google Play Store, Months After App Store Debut",
           "Donald Trump's Truth Social app, the social media app launched by the former US President after his account was permanently suspended on Twitter, has been approved for distribution in the Google Play store. The company had previously stated that the app, which launched in the US in Apple's App Store in February, had not previously been available in the Play Store due to insufficient content moderation."
          ],
          [
           "Tata Group, Singapore Airlines In Talks Over Vistara And Air India Integration",
           "Singapore Airlines Ltd said on Thursday it was in confidential discussions with India's Tata Group regarding a potential deal which may involve the integration of Vistara and Air India."
          ],
          [
           "B.Com Graduate Sells Idli Sambhar On Bike; Here's Why (Video Inside)",
           "A B.Com graduate is selling idli sambhar on his bike, and the story behind his business is quite heart-warming."
          ],
          [
           "Dear Sonakshi Sinha, \"Watch And Learn\" How To Prank People From Zaheer Iqbal",
           "\"The stupid stuff we did while filming,\" wrote Zaheer Iqbal"
          ],
          [
           null,
           null
          ],
          [
           "Sensex, Nifty Fall Over 0.6% On Global Gloom, A Day After A Sharp Rally",
           "Stock Market India: Equity benchmarks fell on Thursday, tracking a broader risk aversion sentiment."
          ],
          [
           "Karwa Chauth 2022: Inside Shilpa Shetty, Raveena Tandon's Daytime Festivities With Friends",
           "Raveena Tandon shared pictures and videos from the festivities"
          ],
          [
           "KL Rahul's 74 In Vain as Western Australia Stun India In Second Practice Match, Win By 32 Runs",
           "Rahul played some powerful shots in the latter part of his innings, smashing 21 runs off the 17th over giving the team a glimmer of hope but was dismissed by Andrew Tye ending India's hope of winning the match."
          ],
          [
           null,
           null
          ],
          [
           "5 Quick And Easy Cabbage Recipes For Weekday Dinner",
           "Here we bring you 5 quick and easy cabbage recipes that are just perfect for a weekday dinner. Take a look below."
          ],
          [
           "Starfield Dialogue Amount Is Four Times That of Skyrim’s, Persuasion System Returns",
           "Starfield’s dialogue amount is quadruple that of The Elder Scrolls V: Skyrim. Bethesda director Todd Howard filmed an in-house interview, addressing some fan questions, in regard to character builds and dialogues. Starfield draws inspiration from classic Bethesda games, to add a refined, choice-based dialogue system, where you spend points to persuade an NPC. It was further revealed that Starfield had closed 250,00 lines of dialogue, which is four times that of Skyrim — standing at 60,000. Starfield launches early 2023, across PC and Xbox Series S/X."
          ],
          [
           "Vietnam's F1 Track Abandoned As Hopes Fade For Debut Grand Prix",
           "Fenced off to the public and dotted with plastic waste, Hanoi's motor race circuit lies largely abandoned while hopes fade that Vietnam's capital will ever host a Formula One grand prix"
          ],
          [
           "Rupee Weakens Slightly To 82.39 As RBI Steps In To Limit Further Losses",
           "The rupee weakened a touch on Thursday as the Reserve Bank of India stepped-in to limit further losses in the domestic currency."
          ],
          [
           "OpenSea NFT Marketplace Launches Support for Avalanche NFTs on Its Platform",
           "OpenSea has added support for Avalanche, bringing the total number of supported blockchains on OpenSea to seven. Users can now display, list, and trade their Avalanche-based NFTs on OpenSea."
          ],
          [
           "CBSE Class 12 Exam 2023 From February 15; \"Datesheet Is Fake,\" Says Official",
           "CBSE 10th, 12th Exams 2023: CBSE official termed the Class 12 datesheet as fake, saying, \"Class 10, 12 datesheets will be released soon, the exam schedule circulating over WhatsApp is fake.\""
          ],
          [
           "NEET PG 2022 Counselling: Round 2 Registration, Choice Filling Ends Tomorrow",
           "The NEET PG counselling round 2 registration link is available on the official website and candidates can register till tomorrow."
          ],
          [
           "Motorola Edge 30 Ultra, Edge 30 Fusion Receive 5G Support in India, More Smartphones to Follow",
           "Motorola has rolled out the OTA updates enabling 5G support on Motorola Edge 30 Ultra and Edge 30 Fusion. The company has revealed the list of smartphones that will be receiving 5G support by the first week of November."
          ],
          [
           "GATE 2023 Last Date To Register With Late Fee Tomorrow; Papers, Syllabus, Other Details",
           "GATE 2023 Application: Candidates can register for GATE 2023 and can apply online at gate.iitk.ac.in with the payment of a late fee."
          ],
          [
           "Bitcoin Holds Firm Around $19,000 in Anticipation of US CPI Figures",
           "Crypto traded sideways again, and traders were sidelined, while the markets wait for key economic data to drop Thursday morning. Traditional financial markets experienced a similar story in trading on Wednesday."
          ],
          [
           "Thank God (Diwali) Trailer: Ajay Devgn As Modern Day Chitragupt Is Sidharth Malhotra's Worst Nightmare",
           "Ajay Devgn is here to teach a lesson to Sidharth Malhotra"
          ],
          [
           "Hey Kapil Sharma Fans, Help Him Choose Instagram Display Pic From This Album",
           "\"Which picture should be my profile picture on insta,\" wrote Kapil"
          ],
          [
           null,
           null
          ],
          [
           "\"Can't Be An Administrator Forever\": Sourav Ganguly All But Makes It Clear",
           "BCCI president Sourav Ganguly has confirmed that he will 'move on to something else' after his term in the Indian board concludes."
          ],
          [
           "Pooja Hegde Celebrates Her Birthday With Co-Star Salman Khan. See Pics",
           "Pooja Hegde is currently shooting for Kisi Ka Bhai Kisi Ki Jaan"
          ],
          [
           "World Egg Day 2022: 7 Delicious Ways To Revamp The Classic Omelette",
           "World Egg Day: October 14 is celebrated as World Egg Day. Here are some recipes to revamp the classic omelette and give it a new and unique twist."
          ],
          [
           null,
           null
          ],
          [
           "FIFA Women's U-17 World Cup: India Look To Salvage Pride Against Morocco",
           "A crushing 0-8 defeat in the opening match denting their confidence severely, India would look to pick up the pieces and salvage some pride when they play Morocco in their second group match of the FIFA Women's U-17 World Cup on Friday"
          ],
          [
           "'Pathooty' Robot Designed by 17-Year-Old Kerala Student Serves Food, Delivers Newspapers: Details",
           "Pathooty, a robot built by a 17-year-old in Kerala, is capable of delivering newspapers and serving food. The student, Mohammad Shiad, studies computer science in Kannur, Kerala. It was built as part of a study project in school, and is comprised of a plastic stool, aluminium sheet, female dummy, and a serving plate. Meanwhile, the mobile application was developed through an app from the Massachusetts Institute of Technology (MIT) along with an ATMega microcontroller."
          ],
          [
           "iQoo Neo 7 Confirmed to Pack MediaTek Dimensity 9000+ SoC Ahead of October 20 Launch",
           "iQoo Neo 7 will be launched in China on October 20. Ahead of the official launch, the company has started teasing the smartphone and revealed a few of its specifications. The iQoo Neo 7 will be powered by the MediaTek Dimensity 9000+ SoC. It is also teased to include 8GB of RAM and 256GB of onboard storage."
          ],
          [
           "Watch: Arshdeep Singh's Warm Gesture Wins Hearts, Signs Bat For Fan In India Vs Western Australia Practice Match",
           "Arshdeep Singh made a fan's day during the practice match between India and Western Australia on Thursday. The India pacer autographed a bat for the fan who had come to attend the match."
          ],
          [
           "IIM Kozhikode Achieves 100 Per Cent Summer Internship Placements For Batch 2024",
           "The IIM Kozhikode placement season attracted offers from 122 recruiters for 541 students from three full-time PGP programmes, comprising 47 per cent women candidates and 45 per cent non-engineering candidates."
          ],
          [
           "Watch: How To Make Sooji Sandwich For A Quick Meal - Recipe Video Inside",
           "This sooji sandwich is easy to make, healthy and makes for a perfect meal any time of the day."
          ],
          [
           "Karwa Chauth 2022: Neetu Kapoor Sends Festive Greetings To Daughter-In-Law Alia Bhatt And Daughter Riddhima",
           "Neetu Kapoor shared a throwback picture from Alia and Ranbir's wedding"
          ],
          [
           "Viral Video: Zomato Delivery Agent Breaks Into Garba Dance On Duty",
           "Viral Video: A Zomato delivery executive was seen breaking into some 'garba' moves while on duty. Take a look at the heart-warming video."
          ],
          [
           "Punjab NEET UG Counselling 2022: Last Date To Register For MBBS, BDS Programmes Today",
           "Punjab NEET Counselling 2022: NEET UG 2022 qualified candidates yet to register for admission to MBBS and BDS state quota seats of Punjab can apply online at the official website of BFUHS – bfuhs.ac.in."
          ],
          [
           "KCET Counseling 2022: Round 1 Mock Allotment Result Out; Direct Link Here",
           "KCET 2022 counselling round 1 mock seat allotment result is available on kea.kar.nic.in. To download the result candidates will need their PCET number."
          ],
          [
           "Spice Up Your 2-Minute Noodles With These 7 Exciting Recipes",
           "If you are looking for easy ways to make your Maggi even more delicious, then we have found some exciting recipes for you to try."
          ],
          [
           "Karwa Chauth Throwback: Sridevi And Other Stars In A Memory Shared By Sister-In-Law Maheep Kapoor",
           "Maheep Kapoor shared throwback pictures from celebrations over the years"
          ],
          [
           null,
           null
          ],
          [
           "Phone Bhoot Song Kinna Sona: Katrina Kaif, Ishaan Khatter And Siddhant Chaturvedi Show Killer Moves",
           "The film will release in theaters on November 4"
          ],
          [
           "Liam Livingstone, Will Jacks Earn Maiden Call-Up As England Announce Squad For Pakistan Tests",
           "White-ball specialist Liam Livingstone has been given the chance to shine with the red ball for England's Test tour to Pakistan as opener Alex Lees was dropped from the 15-man squad announced"
          ],
          [
           "Mohammad Nawaz Steadies Ship As Pakistan Squeeze Past Bangladesh In T20I Series",
           "Litton Das, who brushed off an early leg strain to put in a gutsy performance, and captain Shakib Al Hasan both chalked up half centuries for Bangladesh to set Pakistan 174 to win in Christchurch."
          ],
          [
           null,
           null
          ],
          [
           "Rogan Josh, Dum Aloo And More: Anupam Kher's Kashmiri Feast Will Make You Slurp",
           "Actor Anupam Kher enjoyed a hearty Kashmiri feast, and we couldn't help but feel an immediate urge for some."
          ],
          [
           "Karwa Chauth 2022: Shibani Dandekar Reveals Why She \"Didn't Fast\" For Husband Farhan Akhtar",
           "After dating for more than five years, Shibani and Farhan Akhtar got married on February 19"
          ],
          [
           "JEECUP Counseling 2022: Round 6 Seat Allotment Result Today; Document Verification From October 14",
           "JEECUP 2022 counselling round 6 seat allotment result will be declared today on the official website- jeecup.admissions.nic.in."
          ],
          [
           "Maharashtra CAP 2022: MHT CET Round-1 Web-Option Entry Starts For BE, BTech Admission",
           "Maharashtra CAP 2022: Candidates will have to enter their preferences in MHT CET web-option entry for BE and BTech courses and colleges prior to the MHT CET 2022 CAP rounds."
          ],
          [
           "Karwa Chauth 2022: Mouni Roy Shows Off Her Mehendi - \"Firsts Are Always Special\"",
           "\"Happy Karwa Chauth beauties,\" wrote Mouni Roy"
          ],
          [
           "Why Billionaire Gautam Adani-Led Group's Stock Prices Are Falling",
           "Adani group stocks have witnessed a sell off. Whats behind this?"
          ],
          [
           "Wipro Shares Fall 6% After Reporting Lower Quarterly Profit",
           "Shares of Wipro slumped more than 6 per cent on Thursday after the IT services major reported a decline in profit for the September quarter."
          ],
          [
           "Dark Chocolate Maggi Is The Latest Bizarre Recipe, Dare To Try It?",
           "Viral Video: We all love maggi, but recently a bizarre dark chocolate maggi has left foodies confused."
          ],
          [
           "Shilpa Shetty Shares Glimpse Of Her Sargi And Karwa Chauth Preparation - See Pic",
           "Shilpa Shetty Kundra has shared a glimpse of her Karwa Chauth celebration. Take a look."
          ],
          [
           "CA Directors Contemplate Lifting David Warner's Captaincy Ban",
           "CA also remained undecided whether to lift a ban on playing Afghanistan in bilateral matches before a three-match ODI series early next year, according to the report."
          ],
          [
           "CBSE Class 10 Sample Paper Of Social Science Here; Marking Scheme, Key Points",
           "CBSE Sample Paper 2023: The CBSE Class 10 Social Science sample papers contain the specimen questions and the format in which 2023 board exams will be held."
          ],
          [
           "India To Have New Team After 2022 T20 World Cup? Ravi Shastri Makes Bold Claim",
           "Former India head coach Ravi Shastri is of the opinion that there will be an all-new Indian team after the T20 World Cup 2022. In comparison to the 2021 T20 World Cup, only a few changes have been made to the Indian roster this term."
          ],
          [
           null,
           null
          ],
          [
           "Rakul Preet Singh Shares Her Diet Secrets And Here's What She Revealed",
           "Rakul Preet Singh's foodie fans asked her questions about her food preferences and we got to know some eye-opening things about the actress!"
          ],
          [
           "Drishyam 2: Tabu Introduces Akshaye Khanna. See New Poster",
           "Tabu shared a poster, introducing Akshaye Khanna's character in the film"
          ],
          [
           "IIITDM Kancheepuram Appoints Professor M V Kartikeyan As Its New Director",
           "M V Kartikeyan is a professor at IIT Roorkee. He graduated from BHU and IIT BHU with a Master's degree in 1985 and a PhD in 1992."
          ],
          [
           null,
           null
          ],
          [
           "Women's Asia Cup: India Thrash Thailand By 74 Runs To Enter Final",
           "India beat Thailand by 74 runs in Sylhet to enter Women's Asia Cup final on Thursday"
          ],
          [
           "Karwa Chauth 2022: City-Wise Moonrise Timings In India; How To Break The Fast",
           "Hindu married women, especially in the northern part of India, are celebrating the festival today (on October 13, 2022). Find the moonrise timings below."
          ],
          [
           "World Sight Day 2022: Genetic Predisposition To Glaucoma",
           "World Sight Day 2022: A lot of glaucoma cases are not diagnosed in time due to poor attention to family history. In general, an average individual has a 3.5% risk of developing glaucoma in their lifetime."
          ],
          [
           "What Separates Virat Kohli From Rohit Sharma As Captain? Ex-Kiwi Star Answers",
           "Rohit Sharma has had a stupendous start as the captain of the Indian team since taking over the team's baton from Virat Kohli. The Hitman will be leading the Indian team in the T20 World Cup 2022, hoping to do what Virat couldn't in ICC events."
          ],
          [
           "Watch: This Multi-Purpose Chocolate Sauce Needs Just 2 Ingredients To Make",
           "This chocolate sauce recipe by chef Pankaj Bhadouria is super easy to make."
          ],
          [
           "Tamil Nadu TNEA Counselling Provisional Allotment For Upward Opted Candidates Out At Tneaonline.org",
           "TNEA 2022 Counselling: The TNEA round-2 provisional allotment for upward opted candidates is out at tneaonline.org. Applicants will have to login to download the TNEA allotment order."
          ],
          [
           "Things Ira Khan Discovered After \"Stalking\" Herself On Instagram",
           "Ira Khan is engaged to fitness trainer Nupur Shikhare"
          ],
          [
           "India vs Western Australia Practice Match Highlights: India Lose To Western Australia In Second Practice Game",
           "India vs Western Australia, Practice Match Highlights: KL Rahul scored a brilliant 75 but India went down fighting against Western Australia in the second practice match at the WACA Ground in Perth."
          ],
          [
           "About Last Night: Alia Bhatt Pictured With Husband Ranbir And Mother-In-Law Neetu Kapoor",
           "Alia Bhatt and Ranbir Kapoor were twinning and winning"
          ]
         ],
         "hovertemplate": "index=%{x}<br>polarity=%{y}<br>heading=%{customdata[0]}<br>content=%{customdata[1]}<extra></extra>",
         "legendgroup": "",
         "marker": {
          "color": "#636efa",
          "pattern": {
           "shape": ""
          }
         },
         "name": "",
         "offsetgroup": "",
         "orientation": "v",
         "showlegend": false,
         "textposition": "auto",
         "type": "bar",
         "x": [
          0,
          1,
          2,
          3,
          4,
          5,
          6,
          7,
          8,
          9,
          10,
          11,
          12,
          13,
          14,
          15,
          16,
          17,
          18,
          19,
          20,
          21,
          22,
          23,
          24,
          25,
          26,
          27,
          28,
          29,
          30,
          31,
          32,
          33,
          34,
          35,
          36,
          37,
          38,
          39,
          40,
          41,
          42,
          43,
          44,
          45,
          46,
          47,
          48,
          49,
          50,
          51,
          52,
          53,
          54,
          55,
          56,
          57,
          58,
          59,
          60,
          61,
          62,
          63,
          64,
          65,
          66,
          67,
          68,
          69,
          70,
          71,
          72,
          73,
          74,
          75,
          76,
          77,
          78,
          79,
          80,
          81,
          82,
          83,
          84,
          85,
          86,
          87,
          88,
          89,
          90,
          91,
          92,
          93,
          94,
          95,
          96,
          97,
          98,
          99,
          100,
          101,
          102,
          103,
          104,
          105,
          106,
          107,
          108,
          109,
          110,
          111,
          112,
          113,
          114,
          115,
          116,
          117,
          118,
          119,
          120,
          121,
          122,
          123,
          124,
          125,
          126,
          127,
          128,
          129,
          130,
          131,
          132,
          133,
          134,
          135
         ],
         "xaxis": "x",
         "y": [
          0,
          0.15,
          0,
          null,
          0,
          -0.075,
          0.3333333333333333,
          null,
          0.10342857142857143,
          0.1,
          0.25,
          0.25,
          -0.16666666666666666,
          0,
          -0.012499999999999997,
          0.03333333333333333,
          0.05833333333333333,
          0.4,
          0,
          0,
          null,
          0,
          -0.15000000000000002,
          -0.05,
          null,
          0.2,
          0,
          0.8,
          0.1875,
          0.23125,
          0.13125,
          0,
          0.06818181818181818,
          0,
          -0.2,
          0,
          0,
          null,
          0,
          0,
          0.13999999999999999,
          null,
          0,
          0.675,
          0.15833333333333333,
          0,
          0.008939393939393936,
          0,
          0.2857142857142857,
          0,
          -0.2333333333333333,
          0.4666666666666666,
          -0.1,
          0,
          null,
          0,
          -0.125,
          -0.044444444444444446,
          null,
          0.14444444444444443,
          0.1,
          0.10142045454545454,
          0,
          0,
          0,
          -0.05,
          0.16944444444444443,
          0.036904761904761905,
          0,
          -0.4,
          -0.7999999999999999,
          null,
          0,
          0,
          0.26666666666666666,
          null,
          0.5888888888888889,
          0.041666666666666664,
          0.12857142857142856,
          0,
          0,
          -0.5,
          0.1,
          0.25,
          -0.3,
          0.16666666666666666,
          0,
          0,
          null,
          0.4,
          0,
          0.2570075757575757,
          null,
          0.2,
          0.10000000000000002,
          -0.2,
          0,
          0.1,
          0.6444444444444445,
          0,
          0,
          0,
          0.1,
          0.5583333333333333,
          0,
          null,
          0,
          0,
          0.18333333333333335,
          null,
          0.5,
          0.375,
          -0.2,
          0,
          0.8,
          -0.4,
          0.28125,
          0.06999999999999999,
          0,
          0.05,
          0.03333333333333333,
          -0.06666666666666667,
          null,
          0,
          0,
          0,
          null,
          0,
          0.125,
          -0.125,
          0,
          0.3833333333333333,
          0,
          0,
          0.1488888888888889,
          0.5
         ],
         "yaxis": "y"
        }
       ],
       "layout": {
        "barmode": "relative",
        "legend": {
         "tracegroupgap": 0
        },
        "margin": {
         "t": 60
        },
        "template": {
         "data": {
          "bar": [
           {
            "error_x": {
             "color": "#2a3f5f"
            },
            "error_y": {
             "color": "#2a3f5f"
            },
            "marker": {
             "line": {
              "color": "#E5ECF6",
              "width": 0.5
             },
             "pattern": {
              "fillmode": "overlay",
              "size": 10,
              "solidity": 0.2
             }
            },
            "type": "bar"
           }
          ],
          "barpolar": [
           {
            "marker": {
             "line": {
              "color": "#E5ECF6",
              "width": 0.5
             },
             "pattern": {
              "fillmode": "overlay",
              "size": 10,
              "solidity": 0.2
             }
            },
            "type": "barpolar"
           }
          ],
          "carpet": [
           {
            "aaxis": {
             "endlinecolor": "#2a3f5f",
             "gridcolor": "white",
             "linecolor": "white",
             "minorgridcolor": "white",
             "startlinecolor": "#2a3f5f"
            },
            "baxis": {
             "endlinecolor": "#2a3f5f",
             "gridcolor": "white",
             "linecolor": "white",
             "minorgridcolor": "white",
             "startlinecolor": "#2a3f5f"
            },
            "type": "carpet"
           }
          ],
          "choropleth": [
           {
            "colorbar": {
             "outlinewidth": 0,
             "ticks": ""
            },
            "type": "choropleth"
           }
          ],
          "contour": [
           {
            "colorbar": {
             "outlinewidth": 0,
             "ticks": ""
            },
            "colorscale": [
             [
              0,
              "#0d0887"
             ],
             [
              0.1111111111111111,
              "#46039f"
             ],
             [
              0.2222222222222222,
              "#7201a8"
             ],
             [
              0.3333333333333333,
              "#9c179e"
             ],
             [
              0.4444444444444444,
              "#bd3786"
             ],
             [
              0.5555555555555556,
              "#d8576b"
             ],
             [
              0.6666666666666666,
              "#ed7953"
             ],
             [
              0.7777777777777778,
              "#fb9f3a"
             ],
             [
              0.8888888888888888,
              "#fdca26"
             ],
             [
              1,
              "#f0f921"
             ]
            ],
            "type": "contour"
           }
          ],
          "contourcarpet": [
           {
            "colorbar": {
             "outlinewidth": 0,
             "ticks": ""
            },
            "type": "contourcarpet"
           }
          ],
          "heatmap": [
           {
            "colorbar": {
             "outlinewidth": 0,
             "ticks": ""
            },
            "colorscale": [
             [
              0,
              "#0d0887"
             ],
             [
              0.1111111111111111,
              "#46039f"
             ],
             [
              0.2222222222222222,
              "#7201a8"
             ],
             [
              0.3333333333333333,
              "#9c179e"
             ],
             [
              0.4444444444444444,
              "#bd3786"
             ],
             [
              0.5555555555555556,
              "#d8576b"
             ],
             [
              0.6666666666666666,
              "#ed7953"
             ],
             [
              0.7777777777777778,
              "#fb9f3a"
             ],
             [
              0.8888888888888888,
              "#fdca26"
             ],
             [
              1,
              "#f0f921"
             ]
            ],
            "type": "heatmap"
           }
          ],
          "heatmapgl": [
           {
            "colorbar": {
             "outlinewidth": 0,
             "ticks": ""
            },
            "colorscale": [
             [
              0,
              "#0d0887"
             ],
             [
              0.1111111111111111,
              "#46039f"
             ],
             [
              0.2222222222222222,
              "#7201a8"
             ],
             [
              0.3333333333333333,
              "#9c179e"
             ],
             [
              0.4444444444444444,
              "#bd3786"
             ],
             [
              0.5555555555555556,
              "#d8576b"
             ],
             [
              0.6666666666666666,
              "#ed7953"
             ],
             [
              0.7777777777777778,
              "#fb9f3a"
             ],
             [
              0.8888888888888888,
              "#fdca26"
             ],
             [
              1,
              "#f0f921"
             ]
            ],
            "type": "heatmapgl"
           }
          ],
          "histogram": [
           {
            "marker": {
             "pattern": {
              "fillmode": "overlay",
              "size": 10,
              "solidity": 0.2
             }
            },
            "type": "histogram"
           }
          ],
          "histogram2d": [
           {
            "colorbar": {
             "outlinewidth": 0,
             "ticks": ""
            },
            "colorscale": [
             [
              0,
              "#0d0887"
             ],
             [
              0.1111111111111111,
              "#46039f"
             ],
             [
              0.2222222222222222,
              "#7201a8"
             ],
             [
              0.3333333333333333,
              "#9c179e"
             ],
             [
              0.4444444444444444,
              "#bd3786"
             ],
             [
              0.5555555555555556,
              "#d8576b"
             ],
             [
              0.6666666666666666,
              "#ed7953"
             ],
             [
              0.7777777777777778,
              "#fb9f3a"
             ],
             [
              0.8888888888888888,
              "#fdca26"
             ],
             [
              1,
              "#f0f921"
             ]
            ],
            "type": "histogram2d"
           }
          ],
          "histogram2dcontour": [
           {
            "colorbar": {
             "outlinewidth": 0,
             "ticks": ""
            },
            "colorscale": [
             [
              0,
              "#0d0887"
             ],
             [
              0.1111111111111111,
              "#46039f"
             ],
             [
              0.2222222222222222,
              "#7201a8"
             ],
             [
              0.3333333333333333,
              "#9c179e"
             ],
             [
              0.4444444444444444,
              "#bd3786"
             ],
             [
              0.5555555555555556,
              "#d8576b"
             ],
             [
              0.6666666666666666,
              "#ed7953"
             ],
             [
              0.7777777777777778,
              "#fb9f3a"
             ],
             [
              0.8888888888888888,
              "#fdca26"
             ],
             [
              1,
              "#f0f921"
             ]
            ],
            "type": "histogram2dcontour"
           }
          ],
          "mesh3d": [
           {
            "colorbar": {
             "outlinewidth": 0,
             "ticks": ""
            },
            "type": "mesh3d"
           }
          ],
          "parcoords": [
           {
            "line": {
             "colorbar": {
              "outlinewidth": 0,
              "ticks": ""
             }
            },
            "type": "parcoords"
           }
          ],
          "pie": [
           {
            "automargin": true,
            "type": "pie"
           }
          ],
          "scatter": [
           {
            "fillpattern": {
             "fillmode": "overlay",
             "size": 10,
             "solidity": 0.2
            },
            "type": "scatter"
           }
          ],
          "scatter3d": [
           {
            "line": {
             "colorbar": {
              "outlinewidth": 0,
              "ticks": ""
             }
            },
            "marker": {
             "colorbar": {
              "outlinewidth": 0,
              "ticks": ""
             }
            },
            "type": "scatter3d"
           }
          ],
          "scattercarpet": [
           {
            "marker": {
             "colorbar": {
              "outlinewidth": 0,
              "ticks": ""
             }
            },
            "type": "scattercarpet"
           }
          ],
          "scattergeo": [
           {
            "marker": {
             "colorbar": {
              "outlinewidth": 0,
              "ticks": ""
             }
            },
            "type": "scattergeo"
           }
          ],
          "scattergl": [
           {
            "marker": {
             "colorbar": {
              "outlinewidth": 0,
              "ticks": ""
             }
            },
            "type": "scattergl"
           }
          ],
          "scattermapbox": [
           {
            "marker": {
             "colorbar": {
              "outlinewidth": 0,
              "ticks": ""
             }
            },
            "type": "scattermapbox"
           }
          ],
          "scatterpolar": [
           {
            "marker": {
             "colorbar": {
              "outlinewidth": 0,
              "ticks": ""
             }
            },
            "type": "scatterpolar"
           }
          ],
          "scatterpolargl": [
           {
            "marker": {
             "colorbar": {
              "outlinewidth": 0,
              "ticks": ""
             }
            },
            "type": "scatterpolargl"
           }
          ],
          "scatterternary": [
           {
            "marker": {
             "colorbar": {
              "outlinewidth": 0,
              "ticks": ""
             }
            },
            "type": "scatterternary"
           }
          ],
          "surface": [
           {
            "colorbar": {
             "outlinewidth": 0,
             "ticks": ""
            },
            "colorscale": [
             [
              0,
              "#0d0887"
             ],
             [
              0.1111111111111111,
              "#46039f"
             ],
             [
              0.2222222222222222,
              "#7201a8"
             ],
             [
              0.3333333333333333,
              "#9c179e"
             ],
             [
              0.4444444444444444,
              "#bd3786"
             ],
             [
              0.5555555555555556,
              "#d8576b"
             ],
             [
              0.6666666666666666,
              "#ed7953"
             ],
             [
              0.7777777777777778,
              "#fb9f3a"
             ],
             [
              0.8888888888888888,
              "#fdca26"
             ],
             [
              1,
              "#f0f921"
             ]
            ],
            "type": "surface"
           }
          ],
          "table": [
           {
            "cells": {
             "fill": {
              "color": "#EBF0F8"
             },
             "line": {
              "color": "white"
             }
            },
            "header": {
             "fill": {
              "color": "#C8D4E3"
             },
             "line": {
              "color": "white"
             }
            },
            "type": "table"
           }
          ]
         },
         "layout": {
          "annotationdefaults": {
           "arrowcolor": "#2a3f5f",
           "arrowhead": 0,
           "arrowwidth": 1
          },
          "autotypenumbers": "strict",
          "coloraxis": {
           "colorbar": {
            "outlinewidth": 0,
            "ticks": ""
           }
          },
          "colorscale": {
           "diverging": [
            [
             0,
             "#8e0152"
            ],
            [
             0.1,
             "#c51b7d"
            ],
            [
             0.2,
             "#de77ae"
            ],
            [
             0.3,
             "#f1b6da"
            ],
            [
             0.4,
             "#fde0ef"
            ],
            [
             0.5,
             "#f7f7f7"
            ],
            [
             0.6,
             "#e6f5d0"
            ],
            [
             0.7,
             "#b8e186"
            ],
            [
             0.8,
             "#7fbc41"
            ],
            [
             0.9,
             "#4d9221"
            ],
            [
             1,
             "#276419"
            ]
           ],
           "sequential": [
            [
             0,
             "#0d0887"
            ],
            [
             0.1111111111111111,
             "#46039f"
            ],
            [
             0.2222222222222222,
             "#7201a8"
            ],
            [
             0.3333333333333333,
             "#9c179e"
            ],
            [
             0.4444444444444444,
             "#bd3786"
            ],
            [
             0.5555555555555556,
             "#d8576b"
            ],
            [
             0.6666666666666666,
             "#ed7953"
            ],
            [
             0.7777777777777778,
             "#fb9f3a"
            ],
            [
             0.8888888888888888,
             "#fdca26"
            ],
            [
             1,
             "#f0f921"
            ]
           ],
           "sequentialminus": [
            [
             0,
             "#0d0887"
            ],
            [
             0.1111111111111111,
             "#46039f"
            ],
            [
             0.2222222222222222,
             "#7201a8"
            ],
            [
             0.3333333333333333,
             "#9c179e"
            ],
            [
             0.4444444444444444,
             "#bd3786"
            ],
            [
             0.5555555555555556,
             "#d8576b"
            ],
            [
             0.6666666666666666,
             "#ed7953"
            ],
            [
             0.7777777777777778,
             "#fb9f3a"
            ],
            [
             0.8888888888888888,
             "#fdca26"
            ],
            [
             1,
             "#f0f921"
            ]
           ]
          },
          "colorway": [
           "#636efa",
           "#EF553B",
           "#00cc96",
           "#ab63fa",
           "#FFA15A",
           "#19d3f3",
           "#FF6692",
           "#B6E880",
           "#FF97FF",
           "#FECB52"
          ],
          "font": {
           "color": "#2a3f5f"
          },
          "geo": {
           "bgcolor": "white",
           "lakecolor": "white",
           "landcolor": "#E5ECF6",
           "showlakes": true,
           "showland": true,
           "subunitcolor": "white"
          },
          "hoverlabel": {
           "align": "left"
          },
          "hovermode": "closest",
          "mapbox": {
           "style": "light"
          },
          "paper_bgcolor": "white",
          "plot_bgcolor": "#E5ECF6",
          "polar": {
           "angularaxis": {
            "gridcolor": "white",
            "linecolor": "white",
            "ticks": ""
           },
           "bgcolor": "#E5ECF6",
           "radialaxis": {
            "gridcolor": "white",
            "linecolor": "white",
            "ticks": ""
           }
          },
          "scene": {
           "xaxis": {
            "backgroundcolor": "#E5ECF6",
            "gridcolor": "white",
            "gridwidth": 2,
            "linecolor": "white",
            "showbackground": true,
            "ticks": "",
            "zerolinecolor": "white"
           },
           "yaxis": {
            "backgroundcolor": "#E5ECF6",
            "gridcolor": "white",
            "gridwidth": 2,
            "linecolor": "white",
            "showbackground": true,
            "ticks": "",
            "zerolinecolor": "white"
           },
           "zaxis": {
            "backgroundcolor": "#E5ECF6",
            "gridcolor": "white",
            "gridwidth": 2,
            "linecolor": "white",
            "showbackground": true,
            "ticks": "",
            "zerolinecolor": "white"
           }
          },
          "shapedefaults": {
           "line": {
            "color": "#2a3f5f"
           }
          },
          "ternary": {
           "aaxis": {
            "gridcolor": "white",
            "linecolor": "white",
            "ticks": ""
           },
           "baxis": {
            "gridcolor": "white",
            "linecolor": "white",
            "ticks": ""
           },
           "bgcolor": "#E5ECF6",
           "caxis": {
            "gridcolor": "white",
            "linecolor": "white",
            "ticks": ""
           }
          },
          "title": {
           "x": 0.05
          },
          "xaxis": {
           "automargin": true,
           "gridcolor": "white",
           "linecolor": "white",
           "ticks": "",
           "title": {
            "standoff": 15
           },
           "zerolinecolor": "white",
           "zerolinewidth": 2
          },
          "yaxis": {
           "automargin": true,
           "gridcolor": "white",
           "linecolor": "white",
           "ticks": "",
           "title": {
            "standoff": 15
           },
           "zerolinecolor": "white",
           "zerolinewidth": 2
          }
         }
        },
        "xaxis": {
         "anchor": "y",
         "domain": [
          0,
          1
         ],
         "title": {
          "text": "index"
         }
        },
        "yaxis": {
         "anchor": "x",
         "domain": [
          0,
          1
         ],
         "title": {
          "text": "polarity"
         }
        }
       }
      }
     },
     "metadata": {},
     "output_type": "display_data"
    }
   ],
   "source": [
    "px.bar(df,x=df.index,y=\"polarity\",hover_data=[\"heading\",\"content\"])\n"
   ]
  },
  {
   "cell_type": "code",
   "execution_count": 11,
   "metadata": {},
   "outputs": [],
   "source": [
    "#pip install opencv-contrib-python mediapipe"
   ]
  },
  {
   "cell_type": "code",
   "execution_count": null,
   "metadata": {},
   "outputs": [],
   "source": []
  }
 ],
 "metadata": {
  "kernelspec": {
   "display_name": "Python 3.9.12 ('base')",
   "language": "python",
   "name": "python3"
  },
  "language_info": {
   "codemirror_mode": {
    "name": "ipython",
    "version": 3
   },
   "file_extension": ".py",
   "mimetype": "text/x-python",
   "name": "python",
   "nbconvert_exporter": "python",
   "pygments_lexer": "ipython3",
   "version": "3.9.12"
  },
  "orig_nbformat": 4,
  "vscode": {
   "interpreter": {
    "hash": "138590162ee7d22b64b5bf0ed8fe6d817e55049a45d7245e715cbe863c919710"
   }
  }
 },
 "nbformat": 4,
 "nbformat_minor": 2
}
