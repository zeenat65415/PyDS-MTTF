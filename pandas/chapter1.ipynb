{
 "cells": [
  {
   "cell_type": "code",
   "execution_count": 1,
   "metadata": {},
   "outputs": [],
   "source": [
    "import numpy as np\n",
    "import matplotlib.pyplot as plt\n",
    "import pandas as pd"
   ]
  },
  {
   "cell_type": "code",
   "execution_count": 2,
   "metadata": {},
   "outputs": [],
   "source": [
    "fake_data=[\n",
    "    {\"city\":\"Lucknow\",\"temp\":30,\"rainfall\":10},\n",
    "    {\"city\":\"Kanpur\",\"temp\":20,\"rainfall\":20},\n",
    "   {\"city\":\"Agra\",\"temp\":10,\"rainfall\":30},\n",
    "   {\"city\":\"Delhi\",\"temp\":40,\"rainfall\":40}\n",
    "\n",
    "\n",
    "]"
   ]
  },
  {
   "cell_type": "code",
   "execution_count": 3,
   "metadata": {},
   "outputs": [
    {
     "data": {
      "text/html": [
       "<div>\n",
       "<style scoped>\n",
       "    .dataframe tbody tr th:only-of-type {\n",
       "        vertical-align: middle;\n",
       "    }\n",
       "\n",
       "    .dataframe tbody tr th {\n",
       "        vertical-align: top;\n",
       "    }\n",
       "\n",
       "    .dataframe thead th {\n",
       "        text-align: right;\n",
       "    }\n",
       "</style>\n",
       "<table border=\"1\" class=\"dataframe\">\n",
       "  <thead>\n",
       "    <tr style=\"text-align: right;\">\n",
       "      <th></th>\n",
       "      <th>city</th>\n",
       "      <th>temp</th>\n",
       "      <th>rainfall</th>\n",
       "    </tr>\n",
       "  </thead>\n",
       "  <tbody>\n",
       "    <tr>\n",
       "      <th>0</th>\n",
       "      <td>Lucknow</td>\n",
       "      <td>30</td>\n",
       "      <td>10</td>\n",
       "    </tr>\n",
       "    <tr>\n",
       "      <th>1</th>\n",
       "      <td>Kanpur</td>\n",
       "      <td>20</td>\n",
       "      <td>20</td>\n",
       "    </tr>\n",
       "    <tr>\n",
       "      <th>2</th>\n",
       "      <td>Agra</td>\n",
       "      <td>10</td>\n",
       "      <td>30</td>\n",
       "    </tr>\n",
       "    <tr>\n",
       "      <th>3</th>\n",
       "      <td>Delhi</td>\n",
       "      <td>40</td>\n",
       "      <td>40</td>\n",
       "    </tr>\n",
       "  </tbody>\n",
       "</table>\n",
       "</div>"
      ],
      "text/plain": [
       "      city  temp  rainfall\n",
       "0  Lucknow    30        10\n",
       "1   Kanpur    20        20\n",
       "2     Agra    10        30\n",
       "3    Delhi    40        40"
      ]
     },
     "execution_count": 3,
     "metadata": {},
     "output_type": "execute_result"
    }
   ],
   "source": [
    "data=pd.DataFrame(fake_data)\n",
    "data"
   ]
  },
  {
   "cell_type": "markdown",
   "metadata": {},
   "source": [
    "## column access"
   ]
  },
  {
   "cell_type": "code",
   "execution_count": 4,
   "metadata": {},
   "outputs": [
    {
     "data": {
      "text/plain": [
       "0    Lucknow\n",
       "1     Kanpur\n",
       "2       Agra\n",
       "3      Delhi\n",
       "Name: city, dtype: object"
      ]
     },
     "execution_count": 4,
     "metadata": {},
     "output_type": "execute_result"
    }
   ],
   "source": [
    "data[\"city\"]#single column output is called series"
   ]
  },
  {
   "cell_type": "code",
   "execution_count": 5,
   "metadata": {},
   "outputs": [
    {
     "data": {
      "text/html": [
       "<div>\n",
       "<style scoped>\n",
       "    .dataframe tbody tr th:only-of-type {\n",
       "        vertical-align: middle;\n",
       "    }\n",
       "\n",
       "    .dataframe tbody tr th {\n",
       "        vertical-align: top;\n",
       "    }\n",
       "\n",
       "    .dataframe thead th {\n",
       "        text-align: right;\n",
       "    }\n",
       "</style>\n",
       "<table border=\"1\" class=\"dataframe\">\n",
       "  <thead>\n",
       "    <tr style=\"text-align: right;\">\n",
       "      <th></th>\n",
       "      <th>city</th>\n",
       "      <th>rainfall</th>\n",
       "    </tr>\n",
       "  </thead>\n",
       "  <tbody>\n",
       "    <tr>\n",
       "      <th>0</th>\n",
       "      <td>Lucknow</td>\n",
       "      <td>10</td>\n",
       "    </tr>\n",
       "    <tr>\n",
       "      <th>1</th>\n",
       "      <td>Kanpur</td>\n",
       "      <td>20</td>\n",
       "    </tr>\n",
       "    <tr>\n",
       "      <th>2</th>\n",
       "      <td>Agra</td>\n",
       "      <td>30</td>\n",
       "    </tr>\n",
       "    <tr>\n",
       "      <th>3</th>\n",
       "      <td>Delhi</td>\n",
       "      <td>40</td>\n",
       "    </tr>\n",
       "  </tbody>\n",
       "</table>\n",
       "</div>"
      ],
      "text/plain": [
       "      city  rainfall\n",
       "0  Lucknow        10\n",
       "1   Kanpur        20\n",
       "2     Agra        30\n",
       "3    Delhi        40"
      ]
     },
     "execution_count": 5,
     "metadata": {},
     "output_type": "execute_result"
    }
   ],
   "source": [
    "data[[\"city\",\"rainfall\"]]#multiple columns output is called Dataframe"
   ]
  },
  {
   "cell_type": "code",
   "execution_count": 6,
   "metadata": {},
   "outputs": [
    {
     "data": {
      "text/plain": [
       "['city', 'temp', 'rainfall']"
      ]
     },
     "execution_count": 6,
     "metadata": {},
     "output_type": "execute_result"
    }
   ],
   "source": [
    "data.columns.to_list()"
   ]
  },
  {
   "cell_type": "markdown",
   "metadata": {},
   "source": [
    "## accessing row wise data"
   ]
  },
  {
   "cell_type": "code",
   "execution_count": 7,
   "metadata": {},
   "outputs": [
    {
     "data": {
      "text/plain": [
       "city        Agra\n",
       "temp          10\n",
       "rainfall      30\n",
       "Name: 2, dtype: object"
      ]
     },
     "execution_count": 7,
     "metadata": {},
     "output_type": "execute_result"
    }
   ],
   "source": [
    "data.loc[2] #row index 2"
   ]
  },
  {
   "cell_type": "code",
   "execution_count": 8,
   "metadata": {},
   "outputs": [
    {
     "data": {
      "text/html": [
       "<div>\n",
       "<style scoped>\n",
       "    .dataframe tbody tr th:only-of-type {\n",
       "        vertical-align: middle;\n",
       "    }\n",
       "\n",
       "    .dataframe tbody tr th {\n",
       "        vertical-align: top;\n",
       "    }\n",
       "\n",
       "    .dataframe thead th {\n",
       "        text-align: right;\n",
       "    }\n",
       "</style>\n",
       "<table border=\"1\" class=\"dataframe\">\n",
       "  <thead>\n",
       "    <tr style=\"text-align: right;\">\n",
       "      <th></th>\n",
       "      <th>city</th>\n",
       "      <th>temp</th>\n",
       "      <th>rainfall</th>\n",
       "    </tr>\n",
       "  </thead>\n",
       "  <tbody>\n",
       "    <tr>\n",
       "      <th>0</th>\n",
       "      <td>Lucknow</td>\n",
       "      <td>30</td>\n",
       "      <td>10</td>\n",
       "    </tr>\n",
       "    <tr>\n",
       "      <th>1</th>\n",
       "      <td>Kanpur</td>\n",
       "      <td>20</td>\n",
       "      <td>20</td>\n",
       "    </tr>\n",
       "    <tr>\n",
       "      <th>2</th>\n",
       "      <td>Agra</td>\n",
       "      <td>10</td>\n",
       "      <td>30</td>\n",
       "    </tr>\n",
       "  </tbody>\n",
       "</table>\n",
       "</div>"
      ],
      "text/plain": [
       "      city  temp  rainfall\n",
       "0  Lucknow    30        10\n",
       "1   Kanpur    20        20\n",
       "2     Agra    10        30"
      ]
     },
     "execution_count": 8,
     "metadata": {},
     "output_type": "execute_result"
    }
   ],
   "source": [
    "data.loc[:2]#row index 0 to 3"
   ]
  },
  {
   "cell_type": "markdown",
   "metadata": {},
   "source": []
  },
  {
   "cell_type": "code",
   "execution_count": 9,
   "metadata": {},
   "outputs": [
    {
     "data": {
      "text/html": [
       "<div>\n",
       "<style scoped>\n",
       "    .dataframe tbody tr th:only-of-type {\n",
       "        vertical-align: middle;\n",
       "    }\n",
       "\n",
       "    .dataframe tbody tr th {\n",
       "        vertical-align: top;\n",
       "    }\n",
       "\n",
       "    .dataframe thead th {\n",
       "        text-align: right;\n",
       "    }\n",
       "</style>\n",
       "<table border=\"1\" class=\"dataframe\">\n",
       "  <thead>\n",
       "    <tr style=\"text-align: right;\">\n",
       "      <th></th>\n",
       "      <th>city</th>\n",
       "      <th>temp</th>\n",
       "      <th>rainfall</th>\n",
       "    </tr>\n",
       "  </thead>\n",
       "  <tbody>\n",
       "    <tr>\n",
       "      <th>0</th>\n",
       "      <td>Lucknow</td>\n",
       "      <td>30</td>\n",
       "      <td>10</td>\n",
       "    </tr>\n",
       "    <tr>\n",
       "      <th>1</th>\n",
       "      <td>Kanpur</td>\n",
       "      <td>20</td>\n",
       "      <td>20</td>\n",
       "    </tr>\n",
       "  </tbody>\n",
       "</table>\n",
       "</div>"
      ],
      "text/plain": [
       "      city  temp  rainfall\n",
       "0  Lucknow    30        10\n",
       "1   Kanpur    20        20"
      ]
     },
     "execution_count": 9,
     "metadata": {},
     "output_type": "execute_result"
    }
   ],
   "source": [
    "data.iloc[:2] #indexed location 0 to 2"
   ]
  },
  {
   "cell_type": "code",
   "execution_count": 10,
   "metadata": {},
   "outputs": [
    {
     "data": {
      "text/plain": [
       "<AxesSubplot: >"
      ]
     },
     "execution_count": 10,
     "metadata": {},
     "output_type": "execute_result"
    },
    {
     "data": {
      "image/png": "[encoded data removed]",
      "text/plain": [
       "<Figure size 432x288 with 1 Axes>"
      ]
     },
     "metadata": {
      "needs_background": "light"
     },
     "output_type": "display_data"
    }
   ],
   "source": [
    "data.plot()"
   ]
  },
  {
   "cell_type": "code",
   "execution_count": 11,
   "metadata": {},
   "outputs": [
    {
     "data": {
      "text/plain": [
       "<AxesSubplot: >"
      ]
     },
     "execution_count": 11,
     "metadata": {},
     "output_type": "execute_result"
    },
    {
     "data": {
      "image/png": "[encoded data removed]",
      "text/plain": [
       "<Figure size 432x288 with 1 Axes>"
      ]
     },
     "metadata": {
      "needs_background": "light"
     },
     "output_type": "display_data"
    }
   ],
   "source": [
    "data.plot(kind=\"bar\")"
   ]
  },
  {
   "cell_type": "code",
   "execution_count": 13,
   "metadata": {},
   "outputs": [
    {
     "data": {
      "text/plain": [
       "<AxesSubplot: >"
      ]
     },
     "execution_count": 13,
     "metadata": {},
     "output_type": "execute_result"
    },
    {
     "data": {
      "image/png": "[encoded data removed]",
      "text/plain": [
       "<Figure size 432x288 with 1 Axes>"
      ]
     },
     "metadata": {
      "needs_background": "light"
     },
     "output_type": "display_data"
    }
   ],
   "source": [
    "data.plot(kind=\"area\")"
   ]
  },
  {
   "cell_type": "code",
   "execution_count": 12,
   "metadata": {},
   "outputs": [
    {
     "name": "stdout",
     "output_type": "stream",
     "text": [
      "\u001b[1;31mSignature:\u001b[0m      \u001b[0mdata\u001b[0m\u001b[1;33m.\u001b[0m\u001b[0mplot\u001b[0m\u001b[1;33m(\u001b[0m\u001b[1;33m*\u001b[0m\u001b[0margs\u001b[0m\u001b[1;33m,\u001b[0m \u001b[1;33m**\u001b[0m\u001b[0mkwargs\u001b[0m\u001b[1;33m)\u001b[0m\u001b[1;33m\u001b[0m\u001b[1;33m\u001b[0m\u001b[0m\n",
      "\u001b[1;31mType:\u001b[0m           PlotAccessor\n",
      "\u001b[1;31mString form:\u001b[0m    <pandas.plotting._core.PlotAccessor object at 0x000002772E14FB50>\n",
      "\u001b[1;31mFile:\u001b[0m           c:\\users\\zeenat jahan\\miniconda3\\lib\\site-packages\\pandas\\plotting\\_core.py\n",
      "\u001b[1;31mDocstring:\u001b[0m     \n",
      "Make plots of Series or DataFrame.\n",
      "\n",
      "Uses the backend specified by the\n",
      "option ``plotting.backend``. By default, matplotlib is used.\n",
      "\n",
      "Parameters\n",
      "----------\n",
      "data : Series or DataFrame\n",
      "    The object for which the method is called.\n",
      "x : label or position, default None\n",
      "    Only used if data is a DataFrame.\n",
      "y : label, position or list of label, positions, default None\n",
      "    Allows plotting of one column versus another. Only used if data is a\n",
      "    DataFrame.\n",
      "kind : str\n",
      "    The kind of plot to produce:\n",
      "\n",
      "    - 'line' : line plot (default)\n",
      "    - 'bar' : vertical bar plot\n",
      "    - 'barh' : horizontal bar plot\n",
      "    - 'hist' : histogram\n",
      "    - 'box' : boxplot\n",
      "    - 'kde' : Kernel Density Estimation plot\n",
      "    - 'density' : same as 'kde'\n",
      "    - 'area' : area plot\n",
      "    - 'pie' : pie plot\n",
      "    - 'scatter' : scatter plot (DataFrame only)\n",
      "    - 'hexbin' : hexbin plot (DataFrame only)\n",
      "ax : matplotlib axes object, default None\n",
      "    An axes of the current figure.\n",
      "subplots : bool, default False\n",
      "    Make separate subplots for each column.\n",
      "sharex : bool, default True if ax is None else False\n",
      "    In case ``subplots=True``, share x axis and set some x axis labels\n",
      "    to invisible; defaults to True if ax is None otherwise False if\n",
      "    an ax is passed in; Be aware, that passing in both an ax and\n",
      "    ``sharex=True`` will alter all x axis labels for all axis in a figure.\n",
      "sharey : bool, default False\n",
      "    In case ``subplots=True``, share y axis and set some y axis labels to invisible.\n",
      "layout : tuple, optional\n",
      "    (rows, columns) for the layout of subplots.\n",
      "figsize : a tuple (width, height) in inches\n",
      "    Size of a figure object.\n",
      "use_index : bool, default True\n",
      "    Use index as ticks for x axis.\n",
      "title : str or list\n",
      "    Title to use for the plot. If a string is passed, print the string\n",
      "    at the top of the figure. If a list is passed and `subplots` is\n",
      "    True, print each item in the list above the corresponding subplot.\n",
      "grid : bool, default None (matlab style default)\n",
      "    Axis grid lines.\n",
      "legend : bool or {'reverse'}\n",
      "    Place legend on axis subplots.\n",
      "style : list or dict\n",
      "    The matplotlib line style per column.\n",
      "logx : bool or 'sym', default False\n",
      "    Use log scaling or symlog scaling on x axis.\n",
      "    .. versionchanged:: 0.25.0\n",
      "\n",
      "logy : bool or 'sym' default False\n",
      "    Use log scaling or symlog scaling on y axis.\n",
      "    .. versionchanged:: 0.25.0\n",
      "\n",
      "loglog : bool or 'sym', default False\n",
      "    Use log scaling or symlog scaling on both x and y axes.\n",
      "    .. versionchanged:: 0.25.0\n",
      "\n",
      "xticks : sequence\n",
      "    Values to use for the xticks.\n",
      "yticks : sequence\n",
      "    Values to use for the yticks.\n",
      "xlim : 2-tuple/list\n",
      "    Set the x limits of the current axes.\n",
      "ylim : 2-tuple/list\n",
      "    Set the y limits of the current axes.\n",
      "xlabel : label, optional\n",
      "    Name to use for the xlabel on x-axis. Default uses index name as xlabel, or the\n",
      "    x-column name for planar plots.\n",
      "\n",
      "    .. versionadded:: 1.1.0\n",
      "\n",
      "    .. versionchanged:: 1.2.0\n",
      "\n",
      "       Now applicable to planar plots (`scatter`, `hexbin`).\n",
      "\n",
      "ylabel : label, optional\n",
      "    Name to use for the ylabel on y-axis. Default will show no ylabel, or the\n",
      "    y-column name for planar plots.\n",
      "\n",
      "    .. versionadded:: 1.1.0\n",
      "\n",
      "    .. versionchanged:: 1.2.0\n",
      "\n",
      "       Now applicable to planar plots (`scatter`, `hexbin`).\n",
      "\n",
      "rot : int, default None\n",
      "    Rotation for ticks (xticks for vertical, yticks for horizontal\n",
      "    plots).\n",
      "fontsize : int, default None\n",
      "    Font size for xticks and yticks.\n",
      "colormap : str or matplotlib colormap object, default None\n",
      "    Colormap to select colors from. If string, load colormap with that\n",
      "    name from matplotlib.\n",
      "colorbar : bool, optional\n",
      "    If True, plot colorbar (only relevant for 'scatter' and 'hexbin'\n",
      "    plots).\n",
      "position : float\n",
      "    Specify relative alignments for bar plot layout.\n",
      "    From 0 (left/bottom-end) to 1 (right/top-end). Default is 0.5\n",
      "    (center).\n",
      "table : bool, Series or DataFrame, default False\n",
      "    If True, draw a table using the data in the DataFrame and the data\n",
      "    will be transposed to meet matplotlib's default layout.\n",
      "    If a Series or DataFrame is passed, use passed data to draw a\n",
      "    table.\n",
      "yerr : DataFrame, Series, array-like, dict and str\n",
      "    See :ref:`Plotting with Error Bars <visualization.errorbars>` for\n",
      "    detail.\n",
      "xerr : DataFrame, Series, array-like, dict and str\n",
      "    Equivalent to yerr.\n",
      "stacked : bool, default False in line and bar plots, and True in area plot\n",
      "    If True, create stacked plot.\n",
      "sort_columns : bool, default False\n",
      "    Sort column names to determine plot ordering.\n",
      "secondary_y : bool or sequence, default False\n",
      "    Whether to plot on the secondary y-axis if a list/tuple, which\n",
      "    columns to plot on secondary y-axis.\n",
      "mark_right : bool, default True\n",
      "    When using a secondary_y axis, automatically mark the column\n",
      "    labels with \"(right)\" in the legend.\n",
      "include_bool : bool, default is False\n",
      "    If True, boolean values can be plotted.\n",
      "backend : str, default None\n",
      "    Backend to use instead of the backend specified in the option\n",
      "    ``plotting.backend``. For instance, 'matplotlib'. Alternatively, to\n",
      "    specify the ``plotting.backend`` for the whole session, set\n",
      "    ``pd.options.plotting.backend``.\n",
      "\n",
      "    .. versionadded:: 1.0.0\n",
      "\n",
      "**kwargs\n",
      "    Options to pass to matplotlib plotting method.\n",
      "\n",
      "Returns\n",
      "-------\n",
      ":class:`matplotlib.axes.Axes` or numpy.ndarray of them\n",
      "    If the backend is not the default matplotlib one, the return value\n",
      "    will be the object returned by the backend.\n",
      "\n",
      "Notes\n",
      "-----\n",
      "- See matplotlib documentation online for more on this subject\n",
      "- If `kind` = 'bar' or 'barh', you can specify relative alignments\n",
      "  for bar plot layout by `position` keyword.\n",
      "  From 0 (left/bottom-end) to 1 (right/top-end). Default is 0.5\n",
      "  (center)\n",
      "\u001b[1;31mCall docstring:\u001b[0m\n",
      "Make plots of Series or DataFrame.\n",
      "\n",
      "Uses the backend specified by the\n",
      "option ``plotting.backend``. By default, matplotlib is used.\n",
      "\n",
      "Parameters\n",
      "----------\n",
      "data : Series or DataFrame\n",
      "    The object for which the method is called.\n",
      "x : label or position, default None\n",
      "    Only used if data is a DataFrame.\n",
      "y : label, position or list of label, positions, default None\n",
      "    Allows plotting of one column versus another. Only used if data is a\n",
      "    DataFrame.\n",
      "kind : str\n",
      "    The kind of plot to produce:\n",
      "\n",
      "    - 'line' : line plot (default)\n",
      "    - 'bar' : vertical bar plot\n",
      "    - 'barh' : horizontal bar plot\n",
      "    - 'hist' : histogram\n",
      "    - 'box' : boxplot\n",
      "    - 'kde' : Kernel Density Estimation plot\n",
      "    - 'density' : same as 'kde'\n",
      "    - 'area' : area plot\n",
      "    - 'pie' : pie plot\n",
      "    - 'scatter' : scatter plot (DataFrame only)\n",
      "    - 'hexbin' : hexbin plot (DataFrame only)\n",
      "ax : matplotlib axes object, default None\n",
      "    An axes of the current figure.\n",
      "subplots : bool, default False\n",
      "    Make separate subplots for each column.\n",
      "sharex : bool, default True if ax is None else False\n",
      "    In case ``subplots=True``, share x axis and set some x axis labels\n",
      "    to invisible; defaults to True if ax is None otherwise False if\n",
      "    an ax is passed in; Be aware, that passing in both an ax and\n",
      "    ``sharex=True`` will alter all x axis labels for all axis in a figure.\n",
      "sharey : bool, default False\n",
      "    In case ``subplots=True``, share y axis and set some y axis labels to invisible.\n",
      "layout : tuple, optional\n",
      "    (rows, columns) for the layout of subplots.\n",
      "figsize : a tuple (width, height) in inches\n",
      "    Size of a figure object.\n",
      "use_index : bool, default True\n",
      "    Use index as ticks for x axis.\n",
      "title : str or list\n",
      "    Title to use for the plot. If a string is passed, print the string\n",
      "    at the top of the figure. If a list is passed and `subplots` is\n",
      "    True, print each item in the list above the corresponding subplot.\n",
      "grid : bool, default None (matlab style default)\n",
      "    Axis grid lines.\n",
      "legend : bool or {'reverse'}\n",
      "    Place legend on axis subplots.\n",
      "style : list or dict\n",
      "    The matplotlib line style per column.\n",
      "logx : bool or 'sym', default False\n",
      "    Use log scaling or symlog scaling on x axis.\n",
      "    .. versionchanged:: 0.25.0\n",
      "\n",
      "logy : bool or 'sym' default False\n",
      "    Use log scaling or symlog scaling on y axis.\n",
      "    .. versionchanged:: 0.25.0\n",
      "\n",
      "loglog : bool or 'sym', default False\n",
      "    Use log scaling or symlog scaling on both x and y axes.\n",
      "    .. versionchanged:: 0.25.0\n",
      "\n",
      "xticks : sequence\n",
      "    Values to use for the xticks.\n",
      "yticks : sequence\n",
      "    Values to use for the yticks.\n",
      "xlim : 2-tuple/list\n",
      "    Set the x limits of the current axes.\n",
      "ylim : 2-tuple/list\n",
      "    Set the y limits of the current axes.\n",
      "xlabel : label, optional\n",
      "    Name to use for the xlabel on x-axis. Default uses index name as xlabel, or the\n",
      "    x-column name for planar plots.\n",
      "\n",
      "    .. versionadded:: 1.1.0\n",
      "\n",
      "    .. versionchanged:: 1.2.0\n",
      "\n",
      "       Now applicable to planar plots (`scatter`, `hexbin`).\n",
      "\n",
      "ylabel : label, optional\n",
      "    Name to use for the ylabel on y-axis. Default will show no ylabel, or the\n",
      "    y-column name for planar plots.\n",
      "\n",
      "    .. versionadded:: 1.1.0\n",
      "\n",
      "    .. versionchanged:: 1.2.0\n",
      "\n",
      "       Now applicable to planar plots (`scatter`, `hexbin`).\n",
      "\n",
      "rot : int, default None\n",
      "    Rotation for ticks (xticks for vertical, yticks for horizontal\n",
      "    plots).\n",
      "fontsize : int, default None\n",
      "    Font size for xticks and yticks.\n",
      "colormap : str or matplotlib colormap object, default None\n",
      "    Colormap to select colors from. If string, load colormap with that\n",
      "    name from matplotlib.\n",
      "colorbar : bool, optional\n",
      "    If True, plot colorbar (only relevant for 'scatter' and 'hexbin'\n",
      "    plots).\n",
      "position : float\n",
      "    Specify relative alignments for bar plot layout.\n",
      "    From 0 (left/bottom-end) to 1 (right/top-end). Default is 0.5\n",
      "    (center).\n",
      "table : bool, Series or DataFrame, default False\n",
      "    If True, draw a table using the data in the DataFrame and the data\n",
      "    will be transposed to meet matplotlib's default layout.\n",
      "    If a Series or DataFrame is passed, use passed data to draw a\n",
      "    table.\n",
      "yerr : DataFrame, Series, array-like, dict and str\n",
      "    See :ref:`Plotting with Error Bars <visualization.errorbars>` for\n",
      "    detail.\n",
      "xerr : DataFrame, Series, array-like, dict and str\n",
      "    Equivalent to yerr.\n",
      "stacked : bool, default False in line and bar plots, and True in area plot\n",
      "    If True, create stacked plot.\n",
      "sort_columns : bool, default False\n",
      "    Sort column names to determine plot ordering.\n",
      "secondary_y : bool or sequence, default False\n",
      "    Whether to plot on the secondary y-axis if a list/tuple, which\n",
      "    columns to plot on secondary y-axis.\n",
      "mark_right : bool, default True\n",
      "    When using a secondary_y axis, automatically mark the column\n",
      "    labels with \"(right)\" in the legend.\n",
      "include_bool : bool, default is False\n",
      "    If True, boolean values can be plotted.\n",
      "backend : str, default None\n",
      "    Backend to use instead of the backend specified in the option\n",
      "    ``plotting.backend``. For instance, 'matplotlib'. Alternatively, to\n",
      "    specify the ``plotting.backend`` for the whole session, set\n",
      "    ``pd.options.plotting.backend``.\n",
      "\n",
      "    .. versionadded:: 1.0.0\n",
      "\n",
      "**kwargs\n",
      "    Options to pass to matplotlib plotting method.\n",
      "\n",
      "Returns\n",
      "-------\n",
      ":class:`matplotlib.axes.Axes` or numpy.ndarray of them\n",
      "    If the backend is not the default matplotlib one, the return value\n",
      "    will be the object returned by the backend.\n",
      "\n",
      "Notes\n",
      "-----\n",
      "- See matplotlib documentation online for more on this subject\n",
      "- If `kind` = 'bar' or 'barh', you can specify relative alignments\n",
      "  for bar plot layout by `position` keyword.\n",
      "  From 0 (left/bottom-end) to 1 (right/top-end). Default is 0.5\n",
      "  (center)\n"
     ]
    }
   ],
   "source": [
    "data.plot?"
   ]
  },
  {
   "cell_type": "code",
   "execution_count": null,
   "metadata": {},
   "outputs": [],
   "source": []
  }
 ],
 "metadata": {
  "kernelspec": {
   "display_name": "Python 3.9.12 ('base')",
   "language": "python",
   "name": "python3"
  },
  "language_info": {
   "codemirror_mode": {
    "name": "ipython",
    "version": 3
   },
   "file_extension": ".py",
   "mimetype": "text/x-python",
   "name": "python",
   "nbconvert_exporter": "python",
   "pygments_lexer": "ipython3",
   "version": "3.9.12"
  },
  "orig_nbformat": 4,
  "vscode": {
   "interpreter": {
    "hash": "138590162ee7d22b64b5bf0ed8fe6d817e55049a45d7245e715cbe863c919710"
   }
  }
 },
 "nbformat": 4,
 "nbformat_minor": 2
}
