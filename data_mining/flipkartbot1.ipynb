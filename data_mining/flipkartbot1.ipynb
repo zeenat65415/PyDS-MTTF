{
 "cells": [
  {
   "cell_type": "code",
   "execution_count": 8,
   "metadata": {},
   "outputs": [],
   "source": [
    "import os\n",
    "import requests\n",
    "import datetime\n",
    "import pandas as pd\n",
    "from bs4 import BeautifulSoup\n",
    "\n",
    "def get_soup(url):\n",
    "    r = requests.get(url)\n",
    "    if r.status_code == 200:\n",
    "        return BeautifulSoup(r.text,\"html5lib\")\n",
    "    return None    "
   ]
  },
  {
   "cell_type": "code",
   "execution_count": 9,
   "metadata": {},
   "outputs": [],
   "source": [
    "url=\"https://www.flipkart.com/search?q=tv&otracker=search&otracker1=search&marketplace=FLIPKART&as-show=on&as=off\"\n",
    "soup = get_soup(url)"
   ]
  },
  {
   "cell_type": "code",
   "execution_count": 10,
   "metadata": {},
   "outputs": [
    {
     "name": "stdout",
     "output_type": "stream",
     "text": [
      "target found\n"
     ]
    }
   ],
   "source": [
    "target = soup.find(\"div\" , class_ =\"_1YokD2 _3Mn1Gg\")\n",
    "if target is not None:\n",
    "    print(\"target found\")\n"
   ]
  },
  {
   "cell_type": "code",
   "execution_count": 18,
   "metadata": {},
   "outputs": [
    {
     "name": "stdout",
     "output_type": "stream",
     "text": [
      "Found 26 items\n"
     ]
    }
   ],
   "source": [
    "items = target.find_all(\"div\", class_ = \"_1AtVbE col-12-12\")\n",
    "print(f\"Found {len(items)} items\")"
   ]
  },
  {
   "cell_type": "code",
   "execution_count": 25,
   "metadata": {},
   "outputs": [
    {
     "name": "stdout",
     "output_type": "stream",
     "text": [
      "tile = SAMSUNG 80 cm (32 Inch) HD Ready LED Smart Tizen TV with 2022 Model\n",
      "selling_price = ₹13,499\n",
      "original_price = ₹18,900\n",
      "rating = 4.4\n",
      "num_ratings_reviews = 62,406 Ratings & 5,541 Reviews\n",
      "\n",
      "tile = KODAK 7XPRO Series 80 cm (32 inch) HD Ready LED Smart Android TV\n",
      "selling_price = ₹8,999\n",
      "original_price = ₹18,499\n",
      "rating = 4.4\n",
      "num_ratings_reviews = 34,522 Ratings & 7,722 Reviews\n",
      "\n",
      "tile = realme 80 cm (32 inch) HD Ready LED Smart Android TV\n",
      "selling_price = ₹10,999\n",
      "original_price = ₹17,999\n",
      "rating = 4.3\n",
      "num_ratings_reviews = 2,19,820 Ratings & 25,037 Reviews\n",
      "\n",
      "tile = LG 80 cm (32 inch) HD Ready LED Smart WebOS TV\n",
      "selling_price = ₹12,980\n",
      "original_price = ₹21,990\n",
      "rating = 4.4\n",
      "num_ratings_reviews = 44,599 Ratings & 3,996 Reviews\n",
      "\n",
      "tile = Mi 5A 80 cm (32 inch) HD Ready LED Smart Android TV with Dolby Audio (2022 Model)\n",
      "selling_price = ₹12,999\n",
      "original_price = ₹24,999\n",
      "rating = 4.4\n",
      "num_ratings_reviews = 3,11,308 Ratings & 29,604 Reviews\n",
      "\n",
      "tile = Infinix Y1 80 cm (32 inch) HD Ready LED Smart Linux TV\n",
      "selling_price = ₹7,999\n",
      "original_price = ₹16,999\n",
      "rating = 4.2\n",
      "num_ratings_reviews = 5,556 Ratings & 889 Reviews\n",
      "\n",
      "tile = realme 100.3 cm (40 inch) Full HD LED Smart Android TV\n",
      "selling_price = ₹16,999\n",
      "original_price = ₹31,999\n",
      "rating = 4.3\n",
      "num_ratings_reviews = 2,19,820 Ratings & 25,037 Reviews\n",
      "\n",
      "tile = SAMSUNG Crystal 4K Neo Series 138 cm (55 inch) Ultra HD (4K) LED Smart Tizen TV with (Black) (2022 Mod...\n",
      "selling_price = ₹46,990\n",
      "original_price = ₹70,900\n",
      "rating = 4.4\n",
      "num_ratings_reviews = 11,243 Ratings & 1,261 Reviews\n",
      "\n",
      "tile = realme NEO 80 cm (32 inch) HD Ready LED Smart Linux TV\n",
      "selling_price = ₹9,999\n",
      "original_price = ₹21,999\n",
      "rating = 4.3\n",
      "num_ratings_reviews = 30,925 Ratings & 2,718 Reviews\n",
      "\n",
      "tile = OnePlus Y1 100 cm (40 inch) Full HD LED Smart Android TV with Dolby Audio\n",
      "selling_price = ₹18,999\n",
      "original_price = ₹27,999\n",
      "rating = 4.3\n",
      "num_ratings_reviews = 1,24,024 Ratings & 11,420 Reviews\n",
      "\n",
      "tile = SAMSUNG The Frame 138 cm (55 inch) QLED Ultra HD (4K) Smart Tizen TV\n",
      "selling_price = ₹90,990\n",
      "original_price = ₹1,44,900\n",
      "rating = 4.2\n",
      "num_ratings_reviews = 1,289 Ratings & 172 Reviews\n",
      "\n",
      "tile = SAMSUNG Crystal 4K 138 cm (55 inch) Ultra HD (4K) LED Smart Tizen TV\n",
      "selling_price = ₹45,990\n",
      "original_price = ₹69,900\n",
      "rating = 4.3\n",
      "num_ratings_reviews = 9,761 Ratings & 1,002 Reviews\n",
      "\n",
      "tile = Mi 5A 108 cm (43 inch) Full HD LED Smart Android TV with Dolby Audio (2022 Model)\n",
      "selling_price = ₹22,999\n",
      "original_price = ₹35,999\n",
      "rating = 4.4\n",
      "num_ratings_reviews = 3,11,308 Ratings & 29,604 Reviews\n",
      "\n",
      "tile = Thomson 9A Series 80 cm (32 inch) HD Ready LED Smart Android TV\n",
      "selling_price = ₹8,999\n",
      "original_price = ₹14,499\n",
      "rating = 4.4\n",
      "num_ratings_reviews = 80,103 Ratings & 17,145 Reviews\n",
      "\n",
      "tile = realme 108 cm (43 inch) Full HD LED Smart Android TV\n",
      "selling_price = ₹18,999\n",
      "original_price = ₹35,999\n",
      "rating = 4.3\n",
      "num_ratings_reviews = 2,19,820 Ratings & 25,037 Reviews\n",
      "\n",
      "tile = LG UQ7500 108 cm (43 inch) Ultra HD (4K) LED Smart WebOS TV 2022 Edition\n",
      "selling_price = ₹28,990\n",
      "original_price = ₹49,990\n",
      "rating = 4.4\n",
      "num_ratings_reviews = 9,496 Ratings & 1,159 Reviews\n",
      "\n",
      "tile = SAMSUNG The Frame 125 cm (50 inch) QLED Ultra HD (4K) Smart Tizen TV\n",
      "selling_price = ₹76,990\n",
      "original_price = ₹1,24,900\n",
      "rating = 4.2\n",
      "num_ratings_reviews = 1,289 Ratings & 172 Reviews\n",
      "\n",
      "tile = KODAK 7XPRO Series 106 cm (42 inch) Full HD LED Smart Android TV\n",
      "selling_price = ₹16,999\n",
      "original_price = ₹27,999\n",
      "rating = 4.4\n",
      "num_ratings_reviews = 34,522 Ratings & 7,722 Reviews\n",
      "\n",
      "tile = OnePlus Y1S 80 cm (32 inch) HD Ready LED Smart Android TV with Android 11 and Bezel-Less Frame\n",
      "selling_price = ₹13,999\n",
      "original_price = ₹21,999\n",
      "rating = 4.3\n",
      "num_ratings_reviews = 1,24,024 Ratings & 11,420 Reviews\n",
      "\n",
      "tile = Mi X Series 125 cm (50 inch) Ultra HD (4K) LED Smart Android TV with Dolby Vision & 30W Dolby Audio (2...\n",
      "selling_price = ₹31,999\n",
      "original_price = ₹44,999\n",
      "rating = 4.4\n",
      "num_ratings_reviews = 1,411 Ratings & 128 Reviews\n",
      "\n",
      "tile = SAMSUNG The Frame 108 cm (43 inch) QLED Ultra HD (4K) Smart Tizen TV\n",
      "selling_price = ₹61,990\n",
      "original_price = ₹91,900\n",
      "rating = 4.2\n",
      "num_ratings_reviews = 1,289 Ratings & 172 Reviews\n",
      "\n",
      "tile = Dyanora Sigma 108 cm (43 inch) Full HD LED Smart Linux TV with 40 Watt Box Speakers & Bezel-Less Desig...\n",
      "selling_price = ₹13,999\n",
      "original_price = ₹29,999\n",
      "\n",
      "tile = SAMSUNG Crystal 4K Neo Series 108 cm (43 inch) Ultra HD (4K) LED Smart Tizen TV with (Black) (2022 Mod...\n",
      "selling_price = ₹30,970\n",
      "original_price = ₹47,900\n",
      "rating = 4.4\n",
      "num_ratings_reviews = 11,243 Ratings & 1,261 Reviews\n",
      "\n",
      "tile = realme 80 cm (32 inch) Full HD LED Smart Android TV\n",
      "selling_price = ₹13,499\n",
      "original_price = ₹23,999\n",
      "rating = 4.2\n",
      "num_ratings_reviews = 8,674 Ratings & 1,178 Reviews\n",
      "\n",
      "\n",
      "\n"
     ]
    }
   ],
   "source": [
    "for item in items:\n",
    "    title = item.find(\"div\",class_=\"_4rR01T\")\n",
    "    sell_price=item.find(\"div\",class_=\"_30jeq3 _1_WHN1\")\n",
    "    orig_price=item.find(\"div\",class_=\"_3I9_wc _27UcVY\")\n",
    "    rating=item.find(\"div\",class_=\"_3LWZlK\")\n",
    "    num_ratings_reviews=item.find(\"span\",class_=\"_2_R_DZ\")\n",
    "    if title :\n",
    "      print(f\"tile = {title.text.strip()}\")\n",
    "    if sell_price :\n",
    "      print(f\"selling_price = {sell_price.text.strip()}\")\n",
    "    if orig_price:\n",
    "        print(f\"original_price = {orig_price.text.strip()}\") \n",
    "    if rating:\n",
    "        print(f\"rating = {rating.text.strip()}\") \n",
    "    if num_ratings_reviews:\n",
    "        print(f\"num_ratings_reviews = {num_ratings_reviews.text.strip()}\")  \n",
    "    print()     \n",
    "  \n"
   ]
  },
  {
   "cell_type": "code",
   "execution_count": null,
   "metadata": {},
   "outputs": [],
   "source": []
  }
 ],
 "metadata": {
  "kernelspec": {
   "display_name": "Python 3.9.12 ('base')",
   "language": "python",
   "name": "python3"
  },
  "language_info": {
   "codemirror_mode": {
    "name": "ipython",
    "version": 3
   },
   "file_extension": ".py",
   "mimetype": "text/x-python",
   "name": "python",
   "nbconvert_exporter": "python",
   "pygments_lexer": "ipython3",
   "version": "3.9.12"
  },
  "orig_nbformat": 4,
  "vscode": {
   "interpreter": {
    "hash": "138590162ee7d22b64b5bf0ed8fe6d817e55049a45d7245e715cbe863c919710"
   }
  }
 },
 "nbformat": 4,
 "nbformat_minor": 2
}
