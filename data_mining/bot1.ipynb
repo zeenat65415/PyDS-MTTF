{
 "cells": [
  {
   "cell_type": "code",
   "execution_count": 1,
   "metadata": {},
   "outputs": [],
   "source": [
    "import os\n",
    "import requests\n",
    "import datetime\n",
    "import pandas as pd\n",
    "from bs4 import BeautifulSoup\n",
    "\n",
    "def get_soup(url):\n",
    "    r = requests.get(url)\n",
    "    if r.status_code == 200:\n",
    "        return BeautifulSoup(r.text,\"html5lib\")\n",
    "    return None    "
   ]
  },
  {
   "cell_type": "code",
   "execution_count": 2,
   "metadata": {},
   "outputs": [],
   "source": [
    "url=\"https://www.flipkart.com/search?q=tv&otracker=search&otracker1=search&marketplace=FLIPKART&as-show=on&as=off\"\n",
    "soup = get_soup(url)"
   ]
  },
  {
   "cell_type": "code",
   "execution_count": 3,
   "metadata": {},
   "outputs": [
    {
     "name": "stdout",
     "output_type": "stream",
     "text": [
      "target found\n"
     ]
    }
   ],
   "source": [
    "target = soup.find(\"div\" , class_ =\"_1YokD2 _3Mn1Gg\")\n",
    "if target is not None:\n",
    "    print(\"target found\")\n"
   ]
  },
  {
   "cell_type": "code",
   "execution_count": 4,
   "metadata": {},
   "outputs": [
    {
     "name": "stdout",
     "output_type": "stream",
     "text": [
      "Found 26 items\n"
     ]
    }
   ],
   "source": [
    "items = target.find_all(\"div\", class_ = \"_1AtVbE col-12-12\")\n",
    "print(f\"Found {len(items)} items\")"
   ]
  },
  {
   "cell_type": "code",
   "execution_count": 5,
   "metadata": {},
   "outputs": [
    {
     "name": "stdout",
     "output_type": "stream",
     "text": [
      "tile = Adsun Smart Series 60 cm (24 inch) HD Ready LED Smart Android Based TV\n",
      "selling_price = ₹6,999\n",
      "original_price = ₹18,999\n",
      "rating = 3.8\n",
      "num_ratings_reviews = 12,509 Ratings & 1,799 Reviews\n",
      "\n",
      "tile = Adsun 60 cm (24 inch) HD Ready LED TV\n",
      "selling_price = ₹5,999\n",
      "original_price = ₹12,999\n",
      "rating = 3.8\n",
      "num_ratings_reviews = 12,509 Ratings & 1,799 Reviews\n",
      "\n",
      "tile = SAMSUNG 80 cm (32 Inch) HD Ready LED Smart Tizen TV with 2022 Model\n",
      "selling_price = ₹13,499\n",
      "original_price = ₹18,900\n",
      "rating = 4.3\n",
      "num_ratings_reviews = 67,678 Ratings & 6,031 Reviews\n",
      "\n",
      "tile = Mi 5A 80 cm (32 inch) HD Ready LED Smart Android TV with Dolby Audio (2022 Model)\n",
      "selling_price = ₹13,999\n",
      "original_price = ₹24,999\n",
      "rating = 4.4\n",
      "num_ratings_reviews = 3,19,965 Ratings & 30,444 Reviews\n",
      "\n",
      "tile = Infinix Y1 80 cm (32 inch) HD Ready LED Smart Linux TV\n",
      "selling_price = ₹8,999\n",
      "original_price = ₹16,999\n",
      "rating = 4.2\n",
      "num_ratings_reviews = 7,463 Ratings & 1,124 Reviews\n",
      "\n",
      "tile = MarQ by Flipkart 60 cm (24 inch) HD Ready LED TV\n",
      "selling_price = ₹5,499\n",
      "original_price = ₹14,999\n",
      "rating = 4.2\n",
      "num_ratings_reviews = 1,022 Ratings & 118 Reviews\n",
      "\n",
      "tile = OnePlus Y1S 80 cm (32 inch) HD Ready LED Smart Android TV with Android 11 and Bezel-Less Frame\n",
      "selling_price = ₹15,999\n",
      "original_price = ₹21,999\n",
      "rating = 4.3\n",
      "num_ratings_reviews = 1,31,038 Ratings & 12,092 Reviews\n",
      "\n",
      "tile = Adsun Frameless 80 cm (32 inch) HD Ready LED Smart Android Based TV\n",
      "selling_price = ₹8,999\n",
      "original_price = ₹29,999\n",
      "rating = 3.8\n",
      "num_ratings_reviews = 12,509 Ratings & 1,799 Reviews\n",
      "\n",
      "tile = TOSHIBA V35KP 80 cm (32 inch) HD Ready LED Smart Android TV with DTS Virtual X (2022 Model)\n",
      "selling_price = ₹11,490\n",
      "original_price = ₹24,990\n",
      "rating = 4.4\n",
      "num_ratings_reviews = 929 Ratings & 199 Reviews\n",
      "\n",
      "tile = MarQ By Flipkart 80 cm (32 inch) HD Ready LED TV\n",
      "selling_price = ₹7,499\n",
      "original_price = ₹19,999\n",
      "rating = 4.2\n",
      "num_ratings_reviews = 8,403 Ratings & 1,019 Reviews\n",
      "\n",
      "tile = Adsun 80 cm (32 inch) HD Ready LED TV\n",
      "selling_price = ₹7,799\n",
      "original_price = ₹16,999\n",
      "rating = 3.8\n",
      "num_ratings_reviews = 12,509 Ratings & 1,799 Reviews\n",
      "\n",
      "tile = Dyanora Sigma 108 cm (43 inch) Full HD LED Smart Linux TV with 40 Watt Box Speakers & Bezel-Less Desig...\n",
      "selling_price = ₹14,999\n",
      "original_price = ₹29,999\n",
      "rating = 4.2\n",
      "num_ratings_reviews = 16 Ratings & 3 Reviews\n",
      "\n",
      "tile = Mi 5A 108 cm (43 inch) Full HD LED Smart Android TV with Dolby Audio (2022 Model)\n",
      "selling_price = ₹24,999\n",
      "original_price = ₹35,999\n",
      "rating = 4.4\n",
      "num_ratings_reviews = 3,19,965 Ratings & 30,444 Reviews\n",
      "\n",
      "tile = OnePlus Y1S 108 cm (43 inch) Full HD LED Smart Android TV with Android 11 and Bezel-Less Frame\n",
      "selling_price = ₹24,999\n",
      "original_price = ₹31,999\n",
      "rating = 4.3\n",
      "num_ratings_reviews = 1,31,038 Ratings & 12,092 Reviews\n",
      "\n",
      "tile = Vu Premium TV 80 cm (32 inch) HD Ready LED Smart Linux TV with Bezel-Less Frame\n",
      "selling_price = ₹11,499\n",
      "original_price = ₹20,000\n",
      "rating = 4.2\n",
      "num_ratings_reviews = 6,906 Ratings & 776 Reviews\n",
      "\n",
      "tile = SAMSUNG 80 cm (32 inch) HD Ready LED Smart Tizen TV\n",
      "selling_price = ₹13,490\n",
      "original_price = ₹22,900\n",
      "rating = 4.3\n",
      "num_ratings_reviews = 67,678 Ratings & 6,031 Reviews\n",
      "\n",
      "tile = Dyanora 80 cm (32 inch) HD Ready LED Smart Android TV with Noise Reduction, Android 9.0, Powerful Audi...\n",
      "selling_price = ₹8,899\n",
      "original_price = ₹18,999\n",
      "rating = 4\n",
      "num_ratings_reviews = 3,161 Ratings & 418 Reviews\n",
      "\n",
      "tile = Dyanora 108 cm (43 inch) Full HD LED Smart Android Based TV with Noise Reduction, Android 9.0, Google ...\n",
      "selling_price = ₹15,999\n",
      "original_price = ₹32,999\n",
      "rating = 4\n",
      "num_ratings_reviews = 3,161 Ratings & 418 Reviews\n",
      "\n",
      "tile = SAMSUNG Crystal 4K Neo Series 108 cm (43 inch) Ultra HD (4K) LED Smart Tizen TV with (Black) (2022 Mod...\n",
      "selling_price = ₹30,999\n",
      "original_price = ₹47,900\n",
      "rating = 4.4\n",
      "num_ratings_reviews = 13,309 Ratings & 1,450 Reviews\n",
      "\n",
      "tile = realme 80 cm (32 inch) HD Ready LED Smart Android TV\n",
      "selling_price = ₹13,999\n",
      "original_price = ₹17,999\n",
      "rating = 4.3\n",
      "num_ratings_reviews = 2,29,776 Ratings & 26,156 Reviews\n",
      "\n",
      "tile = Dyanora 60 cm (24 inch) HD Ready LED TV with Noise Reduction, Cinema Zoom, Powerful Audio Box Speakers\n",
      "selling_price = ₹5,999\n",
      "original_price = ₹10,999\n",
      "rating = 4\n",
      "num_ratings_reviews = 3,161 Ratings & 418 Reviews\n",
      "\n",
      "tile = Dyanora 60 cm (24 inch) HD Ready LED Smart Android Based TV with Noise Reduction, Android 9.0, Powerfu...\n",
      "selling_price = ₹6,699\n",
      "original_price = ₹12,499\n",
      "rating = 4\n",
      "num_ratings_reviews = 3,161 Ratings & 418 Reviews\n",
      "\n",
      "tile = iFFALCON by TCL K61 139 cm (55 inch) Ultra HD (4K) LED Smart Android TV\n",
      "selling_price = ₹29,499\n",
      "original_price = ₹70,990\n",
      "rating = 4.3\n",
      "num_ratings_reviews = 22,978 Ratings & 3,114 Reviews\n",
      "\n",
      "tile = SAMSUNG Crystal 4K Pro 108 cm (43 inch) Ultra HD (4K) LED Smart Tizen TV with Voice Search\n",
      "selling_price = ₹30,990\n",
      "original_price = ₹54,900\n",
      "rating = 4.4\n",
      "num_ratings_reviews = 13,309 Ratings & 1,450 Reviews\n",
      "\n",
      "\n",
      "\n"
     ]
    }
   ],
   "source": [
    "for item in items:\n",
    "    title = item.find(\"div\",class_=\"_4rR01T\")\n",
    "    sell_price=item.find(\"div\",class_=\"_30jeq3 _1_WHN1\")\n",
    "    orig_price=item.find(\"div\",class_=\"_3I9_wc _27UcVY\")\n",
    "    rating=item.find(\"div\",class_=\"_3LWZlK\")\n",
    "    num_ratings_reviews=item.find(\"span\",class_=\"_2_R_DZ\")\n",
    "    if title :\n",
    "      print(f\"tile = {title.text.strip()}\")\n",
    "    if sell_price :\n",
    "      print(f\"selling_price = {sell_price.text.strip()}\")\n",
    "    if orig_price:\n",
    "        print(f\"original_price = {orig_price.text.strip()}\") \n",
    "    if rating:\n",
    "        print(f\"rating = {rating.text.strip()}\") \n",
    "    if num_ratings_reviews:\n",
    "        print(f\"num_ratings_reviews = {num_ratings_reviews.text.strip()}\")  \n",
    "    print()   \n",
    "  \n"
   ]
  },
  {
   "cell_type": "code",
   "execution_count": null,
   "metadata": {},
   "outputs": [],
   "source": []
  }
 ],
 "metadata": {
  "kernelspec": {
   "display_name": "Python 3.9.12 ('base')",
   "language": "python",
   "name": "python3"
  },
  "language_info": {
   "codemirror_mode": {
    "name": "ipython",
    "version": 3
   },
   "file_extension": ".py",
   "mimetype": "text/x-python",
   "name": "python",
   "nbconvert_exporter": "python",
   "pygments_lexer": "ipython3",
   "version": "3.9.12"
  },
  "orig_nbformat": 4,
  "vscode": {
   "interpreter": {
    "hash": "138590162ee7d22b64b5bf0ed8fe6d817e55049a45d7245e715cbe863c919710"
   }
  }
 },
 "nbformat": 4,
 "nbformat_minor": 2
}
