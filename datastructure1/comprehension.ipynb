{
 "cells": [
  {
   "cell_type": "code",
   "execution_count": 1,
   "metadata": {},
   "outputs": [
    {
     "name": "stdout",
     "output_type": "stream",
     "text": [
      "[23, 49, 56, 71, 80]\n",
      "[529, 2401, 3136, 5041, 6400]\n"
     ]
    }
   ],
   "source": [
    "x=[23,49,56,71,80]\n",
    "x2=[]\n",
    "for i in x:\n",
    "    sqr = i**2\n",
    "    x2.append(sqr)\n",
    "print(x)\n",
    "print(x2)"
   ]
  },
  {
   "cell_type": "code",
   "execution_count": 2,
   "metadata": {},
   "outputs": [
    {
     "name": "stdout",
     "output_type": "stream",
     "text": [
      "[529, 2401, 3136, 5041, 6400]\n"
     ]
    }
   ],
   "source": [
    "x3=[i**2 for i in x]#comprehension\n",
    "print(x3)"
   ]
  },
  {
   "cell_type": "markdown",
   "metadata": {},
   "source": [
    "*  syntax of comrehension(use when you want to create a list from existing list)\n",
    " * newlist=[operation loop condition]"
   ]
  },
  {
   "cell_type": "code",
   "execution_count": 3,
   "metadata": {},
   "outputs": [],
   "source": [
    "a=[2,5,8,1,6,2,5,10]"
   ]
  },
  {
   "cell_type": "code",
   "execution_count": 4,
   "metadata": {},
   "outputs": [
    {
     "name": "stdout",
     "output_type": "stream",
     "text": [
      "[2, 8, 6, 2, 10]\n"
     ]
    }
   ],
   "source": [
    "even_a=[i for i in a if i%2==0]\n",
    "print(even_a)"
   ]
  },
  {
   "cell_type": "code",
   "execution_count": 19,
   "metadata": {},
   "outputs": [
    {
     "name": "stdout",
     "output_type": "stream",
     "text": [
      "['AS', 'ST', 'SM']\n"
     ]
    }
   ],
   "source": [
    "names=['Aparna Sharma','Satyam Tiwari','Shristi Mishra']\n",
    "initial_names=[f'{n.split()[0][0]}{n.split()[-1][0]}' for n in names]\n",
    "print(initial_names)"
   ]
  },
  {
   "cell_type": "code",
   "execution_count": 23,
   "metadata": {},
   "outputs": [],
   "source": [
    "x={1,2,3,41,23,123,123,1,31,23}\n",
    "\n"
   ]
  },
  {
   "cell_type": "code",
   "execution_count": 27,
   "metadata": {},
   "outputs": [
    {
     "name": "stdout",
     "output_type": "stream",
     "text": [
      "{1, 2, 3, 23, 41, 123, 31} <generator object <genexpr> at 0x0000019B796E3A50>\n"
     ]
    }
   ],
   "source": [
    "x5 = (i ** 3 for i in x)\n",
    "print(x,x5)\n",
    "\n"
   ]
  },
  {
   "cell_type": "code",
   "execution_count": 8,
   "metadata": {},
   "outputs": [],
   "source": [
    "rainfall={\n",
    "    '2001':350,\n",
    "    '2002':420,\n",
    "    '2003':510,\n",
    "    '2004':600,\n",
    "    '2005':700,\n",
    "\n",
    "}"
   ]
  },
  {
   "cell_type": "code",
   "execution_count": 9,
   "metadata": {},
   "outputs": [],
   "source": [
    "rainfall_norm={i[0]:i[1]/700 for i in rainfall.items()}"
   ]
  },
  {
   "cell_type": "code",
   "execution_count": 10,
   "metadata": {},
   "outputs": [
    {
     "data": {
      "text/plain": [
       "{'2001': 0.5,\n",
       " '2002': 0.6,\n",
       " '2003': 0.7285714285714285,\n",
       " '2004': 0.8571428571428571,\n",
       " '2005': 1.0}"
      ]
     },
     "execution_count": 10,
     "metadata": {},
     "output_type": "execute_result"
    }
   ],
   "source": [
    "rainfall_norm#range of normalization between 0 and 1"
   ]
  },
  {
   "cell_type": "markdown",
   "metadata": {},
   "source": [
    "### wap to create a program that takes a list of numbers and then generate a list off all even nums and odd nums separated using comprehension"
   ]
  },
  {
   "cell_type": "code",
   "execution_count": 29,
   "metadata": {},
   "outputs": [
    {
     "name": "stdout",
     "output_type": "stream",
     "text": [
      "[2, 100, 44] [31, 99, 45, 43]\n"
     ]
    }
   ],
   "source": [
    "a=[2,31,99,100,45,44,43]\n",
    "even_no=[i for i in a if i%2==0]\n",
    "odd_no=[i for i in a if i%2!=0]\n",
    "print(even_no,odd_no)\n"
   ]
  },
  {
   "cell_type": "code",
   "execution_count": null,
   "metadata": {},
   "outputs": [],
   "source": []
  }
 ],
 "metadata": {
  "kernelspec": {
   "display_name": "Python 3.9.12 ('base')",
   "language": "python",
   "name": "python3"
  },
  "language_info": {
   "codemirror_mode": {
    "name": "ipython",
    "version": 3
   },
   "file_extension": ".py",
   "mimetype": "text/x-python",
   "name": "python",
   "nbconvert_exporter": "python",
   "pygments_lexer": "ipython3",
   "version": "3.9.12"
  },
  "orig_nbformat": 4,
  "vscode": {
   "interpreter": {
    "hash": "138590162ee7d22b64b5bf0ed8fe6d817e55049a45d7245e715cbe863c919710"
   }
  }
 },
 "nbformat": 4,
 "nbformat_minor": 2
}
