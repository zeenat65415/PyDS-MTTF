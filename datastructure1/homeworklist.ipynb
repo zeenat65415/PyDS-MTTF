{
 "cells": [
  {
   "cell_type": "markdown",
   "metadata": {},
   "source": [
    "### wap to calculate the total of a list,where values are enrered by a user\n"
   ]
  },
  {
   "cell_type": "code",
   "execution_count": 11,
   "metadata": {},
   "outputs": [
    {
     "name": "stdout",
     "output_type": "stream",
     "text": [
      "numbers entered by a user: [10, 10, 10, 10, 10, 10, 10]\n",
      "Sum of all elements entered by user: 70\n"
     ]
    }
   ],
   "source": [
    "numbers=[]                                                    #emptylist\n",
    "for i in range(7):                                            #repeat 7 times\n",
    "    v=int(input(\"enter a number:\"))                           #take user input \n",
    "    numbers.append(v)                                         #add user input to lisst\n",
    "print(\"numbers entered by a user:\",numbers)                                                                                                      \n",
    "total=sum(numbers)                                            #sum is predefined                                        \n",
    "print(\"Sum of all elements entered by user:\",total)"
   ]
  },
  {
   "cell_type": "code",
   "execution_count": 7,
   "metadata": {},
   "outputs": [
    {
     "name": "stdout",
     "output_type": "stream",
     "text": [
      "total=> 291\n"
     ]
    }
   ],
   "source": [
    "x=[]\n",
    "for i in range(5):\n",
    "    inp=int(input('>enter value'))\n",
    "    x.append(inp)\n",
    "total=sum(x)\n",
    "print(\"total=>\",total)    "
   ]
  },
  {
   "cell_type": "markdown",
   "metadata": {},
   "source": [
    "## wap to remove any three items at a time from a given list"
   ]
  },
  {
   "cell_type": "code",
   "execution_count": 5,
   "metadata": {},
   "outputs": [
    {
     "name": "stdout",
     "output_type": "stream",
     "text": [
      "[4, 5, 6, 7, 8, 9, 10, 11, 12, 13, 14, 15]\n"
     ]
    }
   ],
   "source": [
    "num=[1,2,3,4,5,6,7,8,9,10,11,12,13,14,15]\n",
    "for i in range(3):\n",
    "    inp=int(input(\"enter the numbers to be removed from list\"))\n",
    "    num.remove(inp)\n",
    "print(num)"
   ]
  },
  {
   "cell_type": "code",
   "execution_count": 8,
   "metadata": {},
   "outputs": [
    {
     "name": "stdout",
     "output_type": "stream",
     "text": [
      "12\n",
      "67\n",
      "78\n",
      "78\n",
      "56\n"
     ]
    }
   ],
   "source": [
    "for i in x:\n",
    "    print(i)\n"
   ]
  },
  {
   "cell_type": "code",
   "execution_count": 10,
   "metadata": {},
   "outputs": [
    {
     "name": "stdout",
     "output_type": "stream",
     "text": [
      "0 12\n",
      "1 67\n",
      "2 78\n",
      "3 78\n",
      "4 56\n"
     ]
    }
   ],
   "source": [
    "for i,v in enumerate(x):\n",
    "    print(i,v)"
   ]
  },
  {
   "cell_type": "code",
   "execution_count": 13,
   "metadata": {},
   "outputs": [
    {
     "name": "stdout",
     "output_type": "stream",
     "text": [
      "1 11\n",
      "2 22\n",
      "3 33\n",
      "4 44\n",
      "5 55\n",
      "6 66\n",
      "7 77\n",
      "8 88\n",
      "9 99\n",
      "10 100\n"
     ]
    }
   ],
   "source": [
    "a=[11,22,33,44,55,66,77,88,99,100]\n",
    "ev3=[]\n",
    "for i,v  in enumerate(a):\n",
    "    pos =i+1\n",
    "    print(pos,v)"
   ]
  },
  {
   "cell_type": "code",
   "execution_count": 1,
   "metadata": {},
   "outputs": [
    {
     "name": "stdout",
     "output_type": "stream",
     "text": [
      "[33, 66, 99]\n",
      "[11, 22, 44, 55, 77, 88, 100]\n"
     ]
    }
   ],
   "source": [
    "a=[11,22,33,44,55,66,77,88,99,100]\n",
    "ev3=[]\n",
    "for i,v in enumerate(a):\n",
    "    pos=i+1\n",
    "    if pos%3 == 0:\n",
    "        ev3.append(v)\n",
    "print(ev3)\n",
    "for item in ev3:\n",
    "    a.remove(item)\n",
    "print(a)    \n",
    "\n"
   ]
  },
  {
   "cell_type": "markdown",
   "metadata": {},
   "source": [
    "## wap to add every third item from a list,and store the result at the end of list"
   ]
  },
  {
   "cell_type": "code",
   "execution_count": 5,
   "metadata": {},
   "outputs": [
    {
     "name": "stdout",
     "output_type": "stream",
     "text": [
      "[33, 66, 99]\n",
      "Sum of every third no. is: 198\n",
      "198\n",
      "[11, 22, 33, 44, 55, 66, 77, 88, 99, 100, 198]\n"
     ]
    }
   ],
   "source": [
    "a=[11,22,33,44,55,66,77,88,99,100]\n",
    "ev3=[]\n",
    "for i,v in enumerate(a):\n",
    "    pos=i+1\n",
    "    if pos%3==0:\n",
    "        ev3.append(v)\n",
    "print(ev3) \n",
    "total=sum(ev3)\n",
    "print (\"Sum of every third no. is:\",total) \n",
    "print(total)\n",
    "a.append(total) \n",
    "print(a)    \n",
    "\n"
   ]
  },
  {
   "cell_type": "code",
   "execution_count": null,
   "metadata": {},
   "outputs": [],
   "source": []
  }
 ],
 "metadata": {
  "kernelspec": {
   "display_name": "Python 3.9.12 ('base')",
   "language": "python",
   "name": "python3"
  },
  "language_info": {
   "codemirror_mode": {
    "name": "ipython",
    "version": 3
   },
   "file_extension": ".py",
   "mimetype": "text/x-python",
   "name": "python",
   "nbconvert_exporter": "python",
   "pygments_lexer": "ipython3",
   "version": "3.9.12"
  },
  "orig_nbformat": 4,
  "vscode": {
   "interpreter": {
    "hash": "138590162ee7d22b64b5bf0ed8fe6d817e55049a45d7245e715cbe863c919710"
   }
  }
 },
 "nbformat": 4,
 "nbformat_minor": 2
}
