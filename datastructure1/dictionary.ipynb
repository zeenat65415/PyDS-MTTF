{
 "cells": [
  {
   "cell_type": "markdown",
   "metadata": {},
   "source": [
    "# why do we need dictionary?"
   ]
  },
  {
   "cell_type": "code",
   "execution_count": null,
   "metadata": {},
   "outputs": [],
   "source": [
    "mark_list=[]"
   ]
  },
  {
   "cell_type": "code",
   "execution_count": 2,
   "metadata": {},
   "outputs": [
    {
     "name": "stdout",
     "output_type": "stream",
     "text": [
      "{'Alan': 30, 'Brian': 50, 'Charles': 60, 'David': 70, 'Eric': 80, 'Frank': 90}\n"
     ]
    }
   ],
   "source": [
    "marks_dict={'Alan':30,'Brian':50,'Charles':60,'David':70,'Eric':80,'Frank':90}\n",
    "print(marks_dict)"
   ]
  },
  {
   "cell_type": "code",
   "execution_count": 5,
   "metadata": {},
   "outputs": [
    {
     "ename": "NameError",
     "evalue": "name 'marks_dict' is not defined",
     "output_type": "error",
     "traceback": [
      "\u001b[1;31m---------------------------------------------------------------------------\u001b[0m",
      "\u001b[1;31mNameError\u001b[0m                                 Traceback (most recent call last)",
      "\u001b[1;32mc:\\Users\\Zeenat jahan\\Documents\\GitHub\\PyDS-MTTF\\datastructure1\\dictionary.ipynb Cell 4\u001b[0m in \u001b[0;36m<cell line: 1>\u001b[1;34m()\u001b[0m\n\u001b[1;32m----> <a href='vscode-notebook-cell:/c%3A/Users/Zeenat%20jahan/Documents/GitHub/PyDS-MTTF/datastructure1/dictionary.ipynb#ch0000005?line=0'>1</a>\u001b[0m \u001b[39mprint\u001b[39m(\u001b[39m\"\u001b[39m\u001b[39mCharles got\u001b[39m\u001b[39m\"\u001b[39m,marks_dict[\u001b[39m'\u001b[39m\u001b[39mCharles\u001b[39m\u001b[39m'\u001b[39m])\u001b[39m#get value of Charles\u001b[39;00m\n\u001b[0;32m      <a href='vscode-notebook-cell:/c%3A/Users/Zeenat%20jahan/Documents/GitHub/PyDS-MTTF/datastructure1/dictionary.ipynb#ch0000005?line=1'>2</a>\u001b[0m \u001b[39mprint\u001b[39m(\u001b[39m\"\u001b[39m\u001b[39mwe are adding grace marks for Alan\u001b[39m\u001b[39m\"\u001b[39m)\n\u001b[0;32m      <a href='vscode-notebook-cell:/c%3A/Users/Zeenat%20jahan/Documents/GitHub/PyDS-MTTF/datastructure1/dictionary.ipynb#ch0000005?line=2'>3</a>\u001b[0m marks_dict[\u001b[39m'\u001b[39m\u001b[39mAlan\u001b[39m\u001b[39m'\u001b[39m]\u001b[39m=\u001b[39m \u001b[39m45\u001b[39m\n",
      "\u001b[1;31mNameError\u001b[0m: name 'marks_dict' is not defined"
     ]
    }
   ],
   "source": [
    "print(\"Charles got\",marks_dict['Charles'])#get value of Charles\n",
    "print(\"we are adding grace marks for Alan\")\n",
    "marks_dict['Alan']= 45\n",
    "print('new marks for Alan is ',marks_dict['Alan'])"
   ]
  },
  {
   "cell_type": "code",
   "execution_count": null,
   "metadata": {},
   "outputs": [],
   "source": []
  },
  {
   "cell_type": "markdown",
   "metadata": {},
   "source": []
  },
  {
   "cell_type": "code",
   "execution_count": null,
   "metadata": {},
   "outputs": [],
   "source": []
  },
  {
   "cell_type": "code",
   "execution_count": null,
   "metadata": {},
   "outputs": [],
   "source": []
  }
 ],
 "metadata": {
  "kernelspec": {
   "display_name": "Python 3.9.12 ('base')",
   "language": "python",
   "name": "python3"
  },
  "language_info": {
   "codemirror_mode": {
    "name": "ipython",
    "version": 3
   },
   "file_extension": ".py",
   "mimetype": "text/x-python",
   "name": "python",
   "nbconvert_exporter": "python",
   "pygments_lexer": "ipython3",
   "version": "3.9.12"
  },
  "orig_nbformat": 4,
  "vscode": {
   "interpreter": {
    "hash": "138590162ee7d22b64b5bf0ed8fe6d817e55049a45d7245e715cbe863c919710"
   }
  }
 },
 "nbformat": 4,
 "nbformat_minor": 2
}
