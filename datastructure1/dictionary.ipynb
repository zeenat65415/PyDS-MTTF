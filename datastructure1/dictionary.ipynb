{
 "cells": [
  {
   "cell_type": "markdown",
   "metadata": {},
   "source": [
    "# why do we need dictionary?"
   ]
  },
  {
   "cell_type": "code",
   "execution_count": 19,
   "metadata": {},
   "outputs": [],
   "source": [
    "marks_list=['Alan',30,'Brian',50,'Charles',60,'David',70,'Eric',88,'Frank',90]#verystupidlist\n",
    "marks_list_v2=[['Alan',30],['Brian',50],['Charles',60],['David',70],['Eric',88],['Frank',90]]#very stupid list v2\n",
    "marks_list_v3=[['Alan',32,45,57,78,88,45],['Brian',23,12,34]]\n"
   ]
  },
  {
   "cell_type": "code",
   "execution_count": 20,
   "metadata": {},
   "outputs": [
    {
     "name": "stdout",
     "output_type": "stream",
     "text": [
      "Alan\n",
      "Brian\n",
      "['Frank', 90]\n",
      "['Alan', 32, 45, 57, 78, 88, 45]\n",
      "['Brian', 23, 12, 34]\n"
     ]
    }
   ],
   "source": [
    "print(marks_list[0])\n",
    "print(marks_list[2])\n",
    "print(marks_list_v2[5])\n",
    "print(marks_list_v3[0])\n",
    "print(marks_list_v3[1])\n"
   ]
  },
  {
   "cell_type": "code",
   "execution_count": 21,
   "metadata": {},
   "outputs": [
    {
     "name": "stdout",
     "output_type": "stream",
     "text": [
      "Alan\n",
      "30\n",
      "Brian\n",
      "50\n",
      "Charles\n",
      "60\n",
      "David\n",
      "70\n",
      "Eric\n",
      "88\n",
      "Frank\n",
      "90\n"
     ]
    }
   ],
   "source": [
    "for item in marks_list_v2:\n",
    "    print(item[0])\n",
    "    print(item[1])\n"
   ]
  },
  {
   "cell_type": "markdown",
   "metadata": {},
   "source": [
    "### list are inefficient in searching meaningful data\n",
    "### dictionary is a collection of key value pair"
   ]
  },
  {
   "cell_type": "code",
   "execution_count": 22,
   "metadata": {},
   "outputs": [
    {
     "name": "stdout",
     "output_type": "stream",
     "text": [
      "{'Alan': 30, 'Brian': 50, 'Charles': 60, 'David': 70, 'Eric': 80, 'Frank': 90}\n"
     ]
    }
   ],
   "source": [
    "marks_dict={'Alan':30,'Brian':50,'Charles':60,'David':70,'Eric':80,'Frank':90}\n",
    "print(marks_dict)"
   ]
  },
  {
   "cell_type": "code",
   "execution_count": 23,
   "metadata": {},
   "outputs": [
    {
     "name": "stdout",
     "output_type": "stream",
     "text": [
      "Charles got 60 marks\n",
      "We are adding grace marks for Alan\n",
      "New marks for Alan is  45\n"
     ]
    }
   ],
   "source": [
    "print(\"Charles got\",marks_dict['Charles'],'marks')#get value of Charles\n",
    "print(\"We are adding grace marks for Alan\")\n",
    "marks_dict['Alan']= 45\n",
    "print('New marks for Alan is ',marks_dict['Alan'])"
   ]
  },
  {
   "cell_type": "code",
   "execution_count": 24,
   "metadata": {},
   "outputs": [],
   "source": [
    "mark_dict={\n",
    "    'name':'Alan','marks':45\n",
    "\n",
    "}"
   ]
  },
  {
   "cell_type": "code",
   "execution_count": 25,
   "metadata": {},
   "outputs": [],
   "source": [
    "marks_dict_v2={\n",
    "    'student 1':{\n",
    "        'name':'Alan',\n",
    "        'cgpa': 8.3\n",
    "    },\n",
    "    'student 2':{\n",
    "        'name':'Brian',\n",
    "        'cgpa':7.5\n",
    "    },\n",
    "    'student 3':{\n",
    "        'name':'Charles',\n",
    "    'cgpa':9.0\n",
    "    }\n",
    "\n",
    "}"
   ]
  },
  {
   "cell_type": "code",
   "execution_count": 26,
   "metadata": {},
   "outputs": [
    {
     "name": "stdout",
     "output_type": "stream",
     "text": [
      "{'name': 'Alan', 'cgpa': 8.3}\n",
      "Alan\n",
      "7.5\n"
     ]
    }
   ],
   "source": [
    "print(marks_dict_v2['student 1'])\n",
    "print(marks_dict_v2['student 1']['name'])\n",
    "print(marks_dict_v2['student 2']['cgpa'])"
   ]
  },
  {
   "cell_type": "code",
   "execution_count": 64,
   "metadata": {},
   "outputs": [],
   "source": [
    "#create a dictionary to store movie name,year,rating and overview\n",
    "movies={\n",
    "    'Inception':{\n",
    "    'year':2010,\n",
    "    'rating':8.8,\n",
    "    'overview':'A thief ,who steals corporate secrets through a dream-sharing technology.'\n",
    "},\n",
    "'The Dark knight':{\n",
    "    'year':2008,\n",
    "    'rating':9.0,\n",
    "    'overview':'Batman vs Joker.'\n",
    "},\n",
    "    \n",
    "'Interseller':{\n",
    "    'year':2014,\n",
    "    'rating':8.6,\n",
    "    'overview':\"it's complicated\"\n",
    "    }\n",
    "\n",
    "}"
   ]
  },
  {
   "cell_type": "code",
   "execution_count": 63,
   "metadata": {},
   "outputs": [
    {
     "name": "stdout",
     "output_type": "stream",
     "text": [
      "{'Inception': {'year': 2010, 'rating': 8.9, 'overview': 'A thief ,who steals corporate secrets through a dream-sharing technology.', 'studio': 'Warner Bros'}, 'The Dark knight': {'year': 2008, 'rating': 9.0, 'overview': 'Batman vs Joker.'}, 'Interseller': {'year': 2014, 'rating': 8.6, 'overview': \"it's complicated\"}}\n",
      "\n",
      "{'year': 2010, 'rating': 8.9, 'overview': 'A thief ,who steals corporate secrets through a dream-sharing technology.', 'studio': 'Warner Bros'}\n",
      "\n",
      "8.6\n"
     ]
    }
   ],
   "source": [
    "print(movies)\n",
    "print( )\n",
    "print(movies['Inception'])\n",
    "print( )\n",
    "print(movies['Interseller']['rating'])"
   ]
  },
  {
   "cell_type": "code",
   "execution_count": 29,
   "metadata": {},
   "outputs": [
    {
     "data": {
      "text/plain": [
       "9.0"
      ]
     },
     "execution_count": 29,
     "metadata": {},
     "output_type": "execute_result"
    }
   ],
   "source": [
    "#get_function(dosen't give error)\n",
    "movies.get('The Dark knight').get('rating')"
   ]
  },
  {
   "cell_type": "code",
   "execution_count": 30,
   "metadata": {},
   "outputs": [
    {
     "name": "stdout",
     "output_type": "stream",
     "text": [
      "{'Inception': {'year': 2010, 'rating': 8.9, 'overview': 'A thief ,who steals corporate secrets through a dream-sharing technology.'}, 'The Dark knight': {'year': 2008, 'rating': 9.0, 'overview': 'Batman vs Joker.'}, 'Interseller': {'year': 2014, 'rating': 8.6, 'overview': \"it's complicated\"}}\n"
     ]
    }
   ],
   "source": [
    "movies['Inception']['rating']=8.9\n",
    "print(movies)"
   ]
  },
  {
   "cell_type": "code",
   "execution_count": 31,
   "metadata": {},
   "outputs": [
    {
     "name": "stdout",
     "output_type": "stream",
     "text": [
      "{'Inception': {'year': 2010, 'rating': 8.9, 'overview': 'A thief ,who steals corporate secrets through a dream-sharing technology.', 'studio': 'Warner Bros'}, 'The Dark knight': {'year': 2008, 'rating': 9.0, 'overview': 'Batman vs Joker.'}, 'Interseller': {'year': 2014, 'rating': 8.6, 'overview': \"it's complicated\"}}\n"
     ]
    }
   ],
   "source": [
    "movies['Inception']['studio']='Warner Bros'\n",
    "print(movies)"
   ]
  },
  {
   "cell_type": "code",
   "execution_count": 32,
   "metadata": {},
   "outputs": [],
   "source": [
    "\n",
    "#dictionary with integer keys\n",
    "my_dict={1:'apple',2:'ball'}\n"
   ]
  },
  {
   "cell_type": "code",
   "execution_count": 33,
   "metadata": {},
   "outputs": [],
   "source": [
    "# get vs [] for retrieving elements\n",
    "my_dict={'name':'Jack','age':26}"
   ]
  },
  {
   "cell_type": "code",
   "execution_count": 34,
   "metadata": {},
   "outputs": [
    {
     "name": "stdout",
     "output_type": "stream",
     "text": [
      "Jack\n"
     ]
    }
   ],
   "source": [
    "#ouput:Jack\n",
    "print(my_dict['name'])"
   ]
  },
  {
   "cell_type": "code",
   "execution_count": 35,
   "metadata": {},
   "outputs": [
    {
     "name": "stdout",
     "output_type": "stream",
     "text": [
      "26\n"
     ]
    }
   ],
   "source": [
    "#output:26\n",
    "print(my_dict.get('age'))"
   ]
  },
  {
   "cell_type": "code",
   "execution_count": 36,
   "metadata": {},
   "outputs": [
    {
     "ename": "KeyError",
     "evalue": "'address'",
     "output_type": "error",
     "traceback": [
      "\u001b[1;31m---------------------------------------------------------------------------\u001b[0m",
      "\u001b[1;31mKeyError\u001b[0m                                  Traceback (most recent call last)",
      "\u001b[1;32mc:\\Users\\Zeenat jahan\\Documents\\GitHub\\PyDS-MTTF\\datastructure1\\dictionary.ipynb Cell 20\u001b[0m in \u001b[0;36m<cell line: 3>\u001b[1;34m()\u001b[0m\n\u001b[0;32m      <a href='vscode-notebook-cell:/c%3A/Users/Zeenat%20jahan/Documents/GitHub/PyDS-MTTF/datastructure1/dictionary.ipynb#ch0000019?line=0'>1</a>\u001b[0m \u001b[39m# trying to access keys which\u001b[39;00m\n\u001b[0;32m      <a href='vscode-notebook-cell:/c%3A/Users/Zeenat%20jahan/Documents/GitHub/PyDS-MTTF/datastructure1/dictionary.ipynb#ch0000019?line=1'>2</a>\u001b[0m \u001b[39m#dosen't exist throws error\u001b[39;00m\n\u001b[1;32m----> <a href='vscode-notebook-cell:/c%3A/Users/Zeenat%20jahan/Documents/GitHub/PyDS-MTTF/datastructure1/dictionary.ipynb#ch0000019?line=2'>3</a>\u001b[0m \u001b[39mprint\u001b[39m(my_dict[\u001b[39m'\u001b[39;49m\u001b[39maddress\u001b[39;49m\u001b[39m'\u001b[39;49m])\n",
      "\u001b[1;31mKeyError\u001b[0m: 'address'"
     ]
    }
   ],
   "source": [
    "# trying to access keys which\n",
    "#dosen't exist throws error\n",
    "print(my_dict['address'])"
   ]
  },
  {
   "cell_type": "code",
   "execution_count": 37,
   "metadata": {},
   "outputs": [
    {
     "name": "stdout",
     "output_type": "stream",
     "text": [
      "None\n"
     ]
    }
   ],
   "source": [
    "#use get() for key extraction\n",
    "print(my_dict.get('address'))"
   ]
  },
  {
   "cell_type": "code",
   "execution_count": 38,
   "metadata": {},
   "outputs": [],
   "source": [
    "#create a dictionary\n",
    "squares={1:1,2:4,3:9,4:16,5:25}"
   ]
  },
  {
   "cell_type": "code",
   "execution_count": 39,
   "metadata": {},
   "outputs": [
    {
     "name": "stdout",
     "output_type": "stream",
     "text": [
      "16\n",
      "{1: 1, 2: 4, 3: 9, 5: 25}\n"
     ]
    }
   ],
   "source": [
    "# remove a particular item,returns its value\n",
    "#output:16\n",
    "print(squares.pop(4))\n",
    "print(squares)"
   ]
  },
  {
   "cell_type": "code",
   "execution_count": 40,
   "metadata": {},
   "outputs": [
    {
     "name": "stdout",
     "output_type": "stream",
     "text": [
      "(5, 25)\n"
     ]
    }
   ],
   "source": [
    "#remove an arbitary item(key,value)\n",
    "#output(5,25)\n",
    "print(squares.popitem())"
   ]
  },
  {
   "cell_type": "code",
   "execution_count": 41,
   "metadata": {},
   "outputs": [
    {
     "name": "stdout",
     "output_type": "stream",
     "text": [
      "{}\n"
     ]
    }
   ],
   "source": [
    "#remove all items\n",
    "squares.clear()\n",
    "print(squares)"
   ]
  },
  {
   "cell_type": "markdown",
   "metadata": {},
   "source": [
    "### iterating through dictionary\n"
   ]
  },
  {
   "cell_type": "code",
   "execution_count": 42,
   "metadata": {},
   "outputs": [],
   "source": [
    "#create a dictionary\n",
    "squares={1:1,2:4,3:9,4:16,5:25}"
   ]
  },
  {
   "cell_type": "code",
   "execution_count": 43,
   "metadata": {},
   "outputs": [
    {
     "name": "stdout",
     "output_type": "stream",
     "text": [
      "1\n",
      "2\n",
      "3\n",
      "4\n",
      "5\n"
     ]
    }
   ],
   "source": [
    "#only keys\n",
    "for i in squares:\n",
    "    print(i)"
   ]
  },
  {
   "cell_type": "code",
   "execution_count": 44,
   "metadata": {},
   "outputs": [
    {
     "name": "stdout",
     "output_type": "stream",
     "text": [
      "1\n",
      "4\n",
      "9\n",
      "16\n",
      "25\n"
     ]
    }
   ],
   "source": [
    "#only values using i as key\n",
    "for i in squares:\n",
    "    print(squares[i])"
   ]
  },
  {
   "cell_type": "code",
   "execution_count": 45,
   "metadata": {},
   "outputs": [
    {
     "name": "stdout",
     "output_type": "stream",
     "text": [
      "1 1\n",
      "2 4\n",
      "3 9\n",
      "4 16\n",
      "5 25\n"
     ]
    }
   ],
   "source": [
    "#using items() function to get both key and value\n",
    "for k,v in squares.items():\n",
    "    print(k,v)"
   ]
  },
  {
   "cell_type": "code",
   "execution_count": 62,
   "metadata": {},
   "outputs": [
    {
     "name": "stdout",
     "output_type": "stream",
     "text": [
      "Inception {'year': 2010, 'rating': 8.9, 'overview': 'A thief ,who steals corporate secrets through a dream-sharing technology.', 'studio': 'Warner Bros'}\n",
      "The Dark knight {'year': 2008, 'rating': 9.0, 'overview': 'Batman vs Joker.'}\n",
      "Interseller {'year': 2014, 'rating': 8.6, 'overview': \"it's complicated\"}\n"
     ]
    }
   ],
   "source": [
    "for name,detail in movies.items():\n",
    "    print(name,detail)"
   ]
  },
  {
   "cell_type": "code",
   "execution_count": 47,
   "metadata": {},
   "outputs": [
    {
     "name": "stdout",
     "output_type": "stream",
     "text": [
      "Inception\n",
      "----------\n",
      "year => 2010\n",
      "-------\n",
      "rating => 8.9\n",
      "-------\n",
      "overview => A thief ,who steals corporate secrets through a dream-sharing technology.\n",
      "-------\n",
      "studio => Warner Bros\n",
      "-------\n",
      "The Dark knight\n",
      "----------\n",
      "year => 2008\n",
      "-------\n",
      "rating => 9.0\n",
      "-------\n",
      "overview => Batman vs Joker.\n",
      "-------\n",
      "Interseller\n",
      "----------\n",
      "year => 2014\n",
      "-------\n",
      "rating => 8.6\n",
      "-------\n",
      "overview => it's complicated\n",
      "-------\n"
     ]
    }
   ],
   "source": [
    "for name,detail in movies.items():\n",
    "    print(name)\n",
    "    print('----------')\n",
    "    for k,v in detail.items():\n",
    "        print(k,'=>',v)\n",
    "        print('-------')"
   ]
  },
  {
   "cell_type": "markdown",
   "metadata": {},
   "source": [
    "# functions"
   ]
  },
  {
   "cell_type": "code",
   "execution_count": 48,
   "metadata": {},
   "outputs": [
    {
     "name": "stdout",
     "output_type": "stream",
     "text": [
      "dict_keys(['Alan', 'Brian', 'Charles', 'David', 'Eric', 'Frank'])\n"
     ]
    }
   ],
   "source": [
    "print(marks_dict.keys())"
   ]
  },
  {
   "cell_type": "code",
   "execution_count": 49,
   "metadata": {},
   "outputs": [
    {
     "name": "stdout",
     "output_type": "stream",
     "text": [
      "dict_values([45, 50, 60, 70, 80, 90])\n"
     ]
    }
   ],
   "source": [
    "print(marks_dict.values())"
   ]
  },
  {
   "cell_type": "code",
   "execution_count": 50,
   "metadata": {},
   "outputs": [
    {
     "name": "stdout",
     "output_type": "stream",
     "text": [
      "dict_items([('Alan', 45), ('Brian', 50), ('Charles', 60), ('David', 70), ('Eric', 80), ('Frank', 90)])\n"
     ]
    }
   ],
   "source": [
    "print(marks_dict.items())"
   ]
  },
  {
   "cell_type": "code",
   "execution_count": 51,
   "metadata": {},
   "outputs": [],
   "source": [
    "#we dont have any method to add item to dictionary ,instead we use this\n",
    "marks_dict['Eliza']=90"
   ]
  },
  {
   "cell_type": "code",
   "execution_count": 65,
   "metadata": {},
   "outputs": [],
   "source": [
    "#adding multiple items in dictionary\n",
    "marks_dict.update({'Grace':39,'Erica':99,'Alex':100})"
   ]
  },
  {
   "cell_type": "code",
   "execution_count": 53,
   "metadata": {},
   "outputs": [
    {
     "name": "stdout",
     "output_type": "stream",
     "text": [
      "{'Alan': 45, 'Brian': 50, 'Charles': 60, 'David': 70, 'Eric': 80, 'Frank': 90, 'Eliza': 90, 'Grace': 39, 'Erica': 99, 'Alex': 100}\n"
     ]
    }
   ],
   "source": [
    "print(marks_dict)\n"
   ]
  },
  {
   "cell_type": "code",
   "execution_count": 54,
   "metadata": {},
   "outputs": [
    {
     "name": "stdout",
     "output_type": "stream",
     "text": [
      "{'Alan': 45, 'Brian': 50, 'Charles': 60, 'David': 70, 'Eric': 80, 'Frank': 90, 'Eliza': 90, 'Erica': 99, 'Alex': 100}\n"
     ]
    }
   ],
   "source": [
    "marks_dict.pop('Grace')\n",
    "print(marks_dict)"
   ]
  },
  {
   "cell_type": "code",
   "execution_count": 55,
   "metadata": {},
   "outputs": [
    {
     "name": "stdout",
     "output_type": "stream",
     "text": [
      "{'Alan': 45, 'Brian': 50, 'Charles': 60, 'David': 70, 'Eric': 80, 'Frank': 90, 'Erica': 99, 'Alex': 100}\n",
      "90\n"
     ]
    }
   ],
   "source": [
    "item_dat_was_removed=marks_dict.pop('Eliza')\n",
    "print(marks_dict)\n",
    "print(item_dat_was_removed)"
   ]
  },
  {
   "cell_type": "code",
   "execution_count": 56,
   "metadata": {},
   "outputs": [],
   "source": [
    "marks_dict.get('adjsk')#no error,it will return none"
   ]
  },
  {
   "cell_type": "code",
   "execution_count": 67,
   "metadata": {},
   "outputs": [
    {
     "data": {
      "text/plain": [
       "100"
      ]
     },
     "execution_count": 67,
     "metadata": {},
     "output_type": "execute_result"
    }
   ],
   "source": [
    "marks_dict.get('Alex','n/a')#when  key not found,it return meassage"
   ]
  },
  {
   "cell_type": "code",
   "execution_count": 58,
   "metadata": {},
   "outputs": [
    {
     "data": {
      "text/plain": [
       "'n/a'"
      ]
     },
     "execution_count": 58,
     "metadata": {},
     "output_type": "execute_result"
    }
   ],
   "source": [
    "marks_dict.get('Fred','n/a')"
   ]
  },
  {
   "cell_type": "code",
   "execution_count": null,
   "metadata": {},
   "outputs": [],
   "source": []
  }
 ],
 "metadata": {
  "kernelspec": {
   "display_name": "Python 3.9.12 ('base')",
   "language": "python",
   "name": "python3"
  },
  "language_info": {
   "codemirror_mode": {
    "name": "ipython",
    "version": 3
   },
   "file_extension": ".py",
   "mimetype": "text/x-python",
   "name": "python",
   "nbconvert_exporter": "python",
   "pygments_lexer": "ipython3",
   "version": "3.9.12"
  },
  "orig_nbformat": 4,
  "vscode": {
   "interpreter": {
    "hash": "138590162ee7d22b64b5bf0ed8fe6d817e55049a45d7245e715cbe863c919710"
   }
  }
 },
 "nbformat": 4,
 "nbformat_minor": 2
}
