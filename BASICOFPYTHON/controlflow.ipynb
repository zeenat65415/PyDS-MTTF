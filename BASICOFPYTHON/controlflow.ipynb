{
 "cells": [
  {
   "cell_type": "markdown",
   "metadata": {},
   "source": [
    "### control flow is required in decision making\n",
    "* for making choice we use words like if,while,when,else"
   ]
  },
  {
   "cell_type": "markdown",
   "metadata": {},
   "source": [
    "* building logic with f  "
   ]
  },
  {
   "cell_type": "code",
   "execution_count": 7,
   "metadata": {},
   "outputs": [
    {
     "name": "stdout",
     "output_type": "stream",
     "text": [
      "you see an aplle seller\n",
      "you walk away\n"
     ]
    }
   ],
   "source": [
    "('you see an aplle seller')\n",
    "q=input('do you like apples?')\n",
    "if q=='yes' or q==\"y\" or q=='Y' or q=='Yes':\n",
    "    print('purchase two kg of apples')\n",
    "if q=='no':\n",
    "    print(\"you walk away\")\n"
   ]
  },
  {
   "cell_type": "code",
   "execution_count": 13,
   "metadata": {},
   "outputs": [
    {
     "name": "stdout",
     "output_type": "stream",
     "text": [
      "x= 10 which is greater than 5\n",
      "this is the info we needed\n",
      "with this power,comes great responsibility\n",
      "the end\n"
     ]
    }
   ],
   "source": [
    "#if test expession:\n",
    "   #statement(s)\n",
    "x=10\n",
    "if x>5:\n",
    "    print(f'x= {x} which is greater than 5')\n",
    "    print('this is the info we needed')\n",
    "    print('with this power,comes great responsibility')\n",
    "print('the end')    "
   ]
  },
  {
   "cell_type": "code",
   "execution_count": 20,
   "metadata": {},
   "outputs": [
    {
     "name": "stdout",
     "output_type": "stream",
     "text": [
      "x is greater than y\n",
      "y is smaller than x\n",
      "y is smaller than 6 also\n",
      "why y is smaller\n",
      "y is 3\n",
      "its time to make\n",
      "13\n"
     ]
    }
   ],
   "source": [
    "#here more than one statements are true\n",
    "x=10\n",
    "y=3\n",
    "if x>y:\n",
    "    print('x is greater than y')\n",
    "    print('y is smaller than x')\n",
    "if y<6:\n",
    "    print('y is smaller than 6 also')\n",
    "    print('why y is smaller')\n",
    "if y==3:\n",
    "    print('y is 3')\n",
    "    print('its time to make')\n",
    "    y=x+y\n",
    "    print(y)       \n"
   ]
  },
  {
   "cell_type": "markdown",
   "metadata": {},
   "source": [
    "* building logic using if else\n",
    "### syntax\n",
    "### if test expression:\n",
    "     statement(s)\n",
    "### else:\n",
    "      statement(s)       \n"
   ]
  },
  {
   "cell_type": "code",
   "execution_count": 36,
   "metadata": {},
   "outputs": [
    {
     "name": "stdout",
     "output_type": "stream",
     "text": [
      "wear shorts\n"
     ]
    }
   ],
   "source": [
    "temp=float(input('what is the temperature?'))\n",
    "if temp>70:\n",
    "    print('wear shorts')\n",
    "else:                                        #the else keyword is an optional ,there can be atmost only one else statement\n",
    "    print('wear long pants')\n",
    "    print('get some exercise outside')     \n",
    "    \n",
    "       "
   ]
  },
  {
   "cell_type": "markdown",
   "metadata": {},
   "source": [
    "* building logic with if-elif-else(we can chek multiple expressions)"
   ]
  },
  {
   "cell_type": "code",
   "execution_count": 35,
   "metadata": {},
   "outputs": [
    {
     "name": "stdout",
     "output_type": "stream",
     "text": [
      "your marks is: 59.9\n",
      "your grade is F\n"
     ]
    }
   ],
   "source": [
    "score=float(input('Enter the score'))\n",
    "print(\"your marks is:\",score)\n",
    "if(score>=90):\n",
    "    print(\"your grade is A\")\n",
    "elif (score>=80):               #elif is like else an optional.hhowever we can have more than one elif statements following an if\n",
    "    print('your grade is B')\n",
    "elif(score>=70):\n",
    "    print('your grade is C')\n",
    "elif(score>=60):\n",
    "    print('your grade is D')\n",
    "else:\n",
    "    print('your grade is F')        "
   ]
  },
  {
   "cell_type": "code",
   "execution_count": 46,
   "metadata": {},
   "outputs": [
    {
     "name": "stdout",
     "output_type": "stream",
     "text": [
      "your score is: 50.0\n",
      "your gradde is: F\n"
     ]
    }
   ],
   "source": [
    "score=float(input('enter your score->'))\n",
    "print(\"your score is:\",score)\n",
    "if score>=90:\n",
    "    letter='A'\n",
    "elif score>=80:\n",
    "    letter='B'\n",
    "elif score>=70:\n",
    "    letter='C'\n",
    "elif score>=60:\n",
    "    letter='D'\n",
    "else:\n",
    "    letter='F'   \n",
    "print(\"your gradde is:\",letter)                 "
   ]
  },
  {
   "cell_type": "markdown",
   "metadata": {},
   "source": [
    "### compound statements\n",
    "  * write if statement without else branch as python one-liner"
   ]
  },
  {
   "cell_type": "code",
   "execution_count": 9,
   "metadata": {},
   "outputs": [
    {
     "name": "stdout",
     "output_type": "stream",
     "text": [
      "42\n"
     ]
    }
   ],
   "source": [
    "# one-letter alternative 1:\n",
    "if 99 in range(100):print(\"42\")"
   ]
  },
  {
   "cell_type": "code",
   "execution_count": 10,
   "metadata": {},
   "outputs": [
    {
     "name": "stdout",
     "output_type": "stream",
     "text": [
      "well done\n"
     ]
    }
   ],
   "source": [
    "if 32 in range(100):print(\"well done\")"
   ]
  },
  {
   "cell_type": "code",
   "execution_count": 18,
   "metadata": {},
   "outputs": [
    {
     "name": "stdout",
     "output_type": "stream",
     "text": [
      "Alice\n"
     ]
    }
   ],
   "source": [
    "#one- liner alternative 2\n",
    "x='Alice' if 'Jon' in \"my name is Jonas\"else\"Bob\"\n",
    "print(x)"
   ]
  },
  {
   "cell_type": "code",
   "execution_count": 32,
   "metadata": {},
   "outputs": [
    {
     "name": "stdout",
     "output_type": "stream",
     "text": [
      "42\n"
     ]
    }
   ],
   "source": [
    "#one-liner alternative 3\n",
    "print('42') if 42 in [22,33,42] else print('21') \n",
    "\n"
   ]
  },
  {
   "cell_type": "code",
   "execution_count": 25,
   "metadata": {},
   "outputs": [
    {
     "name": "stdout",
     "output_type": "stream",
     "text": [
      "64\n"
     ]
    }
   ],
   "source": [
    "a=int(input('Enter a number'))\n",
    "\n",
    "if a>10:a*=2\n",
    "print(a) "
   ]
  },
  {
   "cell_type": "code",
   "execution_count": 28,
   "metadata": {},
   "outputs": [
    {
     "name": "stdout",
     "output_type": "stream",
     "text": [
      "Its hot\n"
     ]
    }
   ],
   "source": [
    "temp=int(input('Enter the temperature'))\n",
    "print(\"Its cool\") if temp<25 else print('Its hot')"
   ]
  },
  {
   "cell_type": "code",
   "execution_count": null,
   "metadata": {},
   "outputs": [],
   "source": []
  },
  {
   "cell_type": "code",
   "execution_count": null,
   "metadata": {},
   "outputs": [],
   "source": [
    "\n"
   ]
  }
 ],
 "metadata": {
  "kernelspec": {
   "display_name": "Python 3.9.12 ('base')",
   "language": "python",
   "name": "python3"
  },
  "language_info": {
   "codemirror_mode": {
    "name": "ipython",
    "version": 3
   },
   "file_extension": ".py",
   "mimetype": "text/x-python",
   "name": "python",
   "nbconvert_exporter": "python",
   "pygments_lexer": "ipython3",
   "version": "3.9.12"
  },
  "orig_nbformat": 4,
  "vscode": {
   "interpreter": {
    "hash": "138590162ee7d22b64b5bf0ed8fe6d817e55049a45d7245e715cbe863c919710"
   }
  }
 },
 "nbformat": 4,
 "nbformat_minor": 2
}
