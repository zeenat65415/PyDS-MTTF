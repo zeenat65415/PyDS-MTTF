{
 "cells": [
  {
   "cell_type": "code",
   "execution_count": 4,
   "metadata": {},
   "outputs": [
    {
     "name": "stdout",
     "output_type": "stream",
     "text": [
      "we have  ['apple', 'banana', 'mango']\n",
      "we have  ['apple', 'banana', 'mango']\n",
      "we have  ['apple', 'banana', 'mango']\n",
      "thats all\n"
     ]
    }
   ],
   "source": [
    "fruits=['apple','banana',\"mango\"]\n",
    "for fruit in fruits:\n",
    "    print(\"we have \",fruits)\n",
    "else:\n",
    "    print(\"thats all\")"
   ]
  },
  {
   "cell_type": "code",
   "execution_count": 7,
   "metadata": {},
   "outputs": [
    {
     "name": "stdout",
     "output_type": "stream",
     "text": [
      "not a prime number\n"
     ]
    }
   ],
   "source": [
    "num=int(input(\"Enter a number greater than 1:\"))\n",
    "for i in range(2,num):\n",
    "    if num%i==0:\n",
    "        print(\"not a prime number\")\n",
    "        break\n",
    "    else:\n",
    "        print(\"prime number\")"
   ]
  },
  {
   "cell_type": "code",
   "execution_count": null,
   "metadata": {},
   "outputs": [],
   "source": []
  }
 ],
 "metadata": {
  "kernelspec": {
   "display_name": "Python 3.9.12 ('base')",
   "language": "python",
   "name": "python3"
  },
  "language_info": {
   "codemirror_mode": {
    "name": "ipython",
    "version": 3
   },
   "file_extension": ".py",
   "mimetype": "text/x-python",
   "name": "python",
   "nbconvert_exporter": "python",
   "pygments_lexer": "ipython3",
   "version": "3.9.12"
  },
  "orig_nbformat": 4,
  "vscode": {
   "interpreter": {
    "hash": "138590162ee7d22b64b5bf0ed8fe6d817e55049a45d7245e715cbe863c919710"
   }
  }
 },
 "nbformat": 4,
 "nbformat_minor": 2
}
